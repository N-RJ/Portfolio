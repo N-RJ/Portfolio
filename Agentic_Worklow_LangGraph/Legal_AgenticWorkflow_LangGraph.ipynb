{
  "cells": [
    {
      "cell_type": "markdown",
      "metadata": {
        "id": "G0yBw__d5zii"
      },
      "source": [
        "## **Legal Agentic Workflow** : LangGraph"
      ]
    },
    {
      "cell_type": "markdown",
      "metadata": {
        "id": "mOphU4HxRpMs"
      },
      "source": [
        "International students in Spain often face a fragmented landscape of information when exploring their options after graduation. While some resources are available across public websites, others are confined to internal university networks, making it difficult for students to access timely, accurate, and complete guidance.\n",
        "\n",
        "To address this challenge, I’ve developed an agentic workflow that consolidates information from two key sources:\n",
        "\n",
        "- Official web-based government policies (via web search tools), and\n",
        "- University-specific internal documents (via Retrieval-Augmented Generation, or RAG)\n",
        "\n",
        "<br>\n",
        "\n",
        "The system is designed to provide students with clear, coherent, and context-aware answers. Importantly, the agent is also equipped with a query classification layer, ensuring that it responds only to questions relevant to international students in Spain. Any unrelated queries are politely declined, preserving the focus and accuracy of the assistant."
      ]
    },
    {
      "cell_type": "markdown",
      "metadata": {
        "id": "xdamTPfWhqRF"
      },
      "source": [
        "<img src='data:image/png;base64,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'/>"
      ]
    },
    {
      "cell_type": "markdown",
      "metadata": {
        "id": "oinogtxFTXiq"
      },
      "source": [
        "**Table of Contents** :\n",
        "\n",
        "- Installing Dependancies\n",
        "- Environment Setup\n",
        "- Initialising the LLM\n",
        "- Defining Web Search Tools\n",
        "- Defining RAG Tool\n",
        "- Combining Tools\n",
        "- Defining the Nodes\n",
        "- Building the Graph\n",
        "- Testing"
      ]
    },
    {
      "cell_type": "markdown",
      "metadata": {
        "id": "amgrOIUIWNgf"
      },
      "source": [
        "### **Installing Dependancies**"
      ]
    },
    {
      "cell_type": "code",
      "execution_count": 30,
      "metadata": {
        "colab": {
          "base_uri": "https://localhost:8080/"
        },
        "id": "76UQVRpO5vlV",
        "outputId": "60541b01-8d12-4388-bdfa-ddd54214659f"
      },
      "outputs": [
        {
          "name": "stdout",
          "output_type": "stream",
          "text": [
            "Requirement already satisfied: langgraph in /usr/local/lib/python3.11/dist-packages (0.5.1)\n",
            "Requirement already satisfied: langsmith in /usr/local/lib/python3.11/dist-packages (0.4.4)\n",
            "Requirement already satisfied: langchain-google-genai in /usr/local/lib/python3.11/dist-packages (2.1.6)\n",
            "Requirement already satisfied: langchain-core>=0.1 in /usr/local/lib/python3.11/dist-packages (from langgraph) (0.3.67)\n",
            "Requirement already satisfied: langgraph-checkpoint<3.0.0,>=2.1.0 in /usr/local/lib/python3.11/dist-packages (from langgraph) (2.1.0)\n",
            "Requirement already satisfied: langgraph-prebuilt<0.6.0,>=0.5.0 in /usr/local/lib/python3.11/dist-packages (from langgraph) (0.5.2)\n",
            "Requirement already satisfied: langgraph-sdk<0.2.0,>=0.1.42 in /usr/local/lib/python3.11/dist-packages (from langgraph) (0.1.72)\n",
            "Requirement already satisfied: pydantic>=2.7.4 in /usr/local/lib/python3.11/dist-packages (from langgraph) (2.11.7)\n",
            "Requirement already satisfied: xxhash>=3.5.0 in /usr/local/lib/python3.11/dist-packages (from langgraph) (3.5.0)\n",
            "Requirement already satisfied: httpx<1,>=0.23.0 in /usr/local/lib/python3.11/dist-packages (from langsmith) (0.28.1)\n",
            "Requirement already satisfied: orjson<4.0.0,>=3.9.14 in /usr/local/lib/python3.11/dist-packages (from langsmith) (3.10.18)\n",
            "Requirement already satisfied: packaging>=23.2 in /usr/local/lib/python3.11/dist-packages (from langsmith) (24.2)\n",
            "Requirement already satisfied: requests<3,>=2 in /usr/local/lib/python3.11/dist-packages (from langsmith) (2.32.3)\n",
            "Requirement already satisfied: requests-toolbelt<2.0.0,>=1.0.0 in /usr/local/lib/python3.11/dist-packages (from langsmith) (1.0.0)\n",
            "Requirement already satisfied: zstandard<0.24.0,>=0.23.0 in /usr/local/lib/python3.11/dist-packages (from langsmith) (0.23.0)\n",
            "Requirement already satisfied: filetype<2.0.0,>=1.2.0 in /usr/local/lib/python3.11/dist-packages (from langchain-google-genai) (1.2.0)\n",
            "Requirement already satisfied: google-ai-generativelanguage<0.7.0,>=0.6.18 in /usr/local/lib/python3.11/dist-packages (from langchain-google-genai) (0.6.18)\n",
            "Requirement already satisfied: google-api-core!=2.0.*,!=2.1.*,!=2.10.*,!=2.2.*,!=2.3.*,!=2.4.*,!=2.5.*,!=2.6.*,!=2.7.*,!=2.8.*,!=2.9.*,<3.0.0,>=1.34.1 in /usr/local/lib/python3.11/dist-packages (from google-api-core[grpc]!=2.0.*,!=2.1.*,!=2.10.*,!=2.2.*,!=2.3.*,!=2.4.*,!=2.5.*,!=2.6.*,!=2.7.*,!=2.8.*,!=2.9.*,<3.0.0,>=1.34.1->google-ai-generativelanguage<0.7.0,>=0.6.18->langchain-google-genai) (2.25.1)\n",
            "Requirement already satisfied: google-auth!=2.24.0,!=2.25.0,<3.0.0,>=2.14.1 in /usr/local/lib/python3.11/dist-packages (from google-ai-generativelanguage<0.7.0,>=0.6.18->langchain-google-genai) (2.38.0)\n",
            "Requirement already satisfied: proto-plus<2.0.0,>=1.22.3 in /usr/local/lib/python3.11/dist-packages (from google-ai-generativelanguage<0.7.0,>=0.6.18->langchain-google-genai) (1.26.1)\n",
            "Requirement already satisfied: protobuf!=4.21.0,!=4.21.1,!=4.21.2,!=4.21.3,!=4.21.4,!=4.21.5,<7.0.0,>=3.20.2 in /usr/local/lib/python3.11/dist-packages (from google-ai-generativelanguage<0.7.0,>=0.6.18->langchain-google-genai) (5.29.5)\n",
            "Requirement already satisfied: anyio in /usr/local/lib/python3.11/dist-packages (from httpx<1,>=0.23.0->langsmith) (4.9.0)\n",
            "Requirement already satisfied: certifi in /usr/local/lib/python3.11/dist-packages (from httpx<1,>=0.23.0->langsmith) (2025.6.15)\n",
            "Requirement already satisfied: httpcore==1.* in /usr/local/lib/python3.11/dist-packages (from httpx<1,>=0.23.0->langsmith) (1.0.9)\n",
            "Requirement already satisfied: idna in /usr/local/lib/python3.11/dist-packages (from httpx<1,>=0.23.0->langsmith) (3.10)\n",
            "Requirement already satisfied: h11>=0.16 in /usr/local/lib/python3.11/dist-packages (from httpcore==1.*->httpx<1,>=0.23.0->langsmith) (0.16.0)\n",
            "Requirement already satisfied: tenacity!=8.4.0,<10.0.0,>=8.1.0 in /usr/local/lib/python3.11/dist-packages (from langchain-core>=0.1->langgraph) (8.5.0)\n",
            "Requirement already satisfied: jsonpatch<2.0,>=1.33 in /usr/local/lib/python3.11/dist-packages (from langchain-core>=0.1->langgraph) (1.33)\n",
            "Requirement already satisfied: PyYAML>=5.3 in /usr/local/lib/python3.11/dist-packages (from langchain-core>=0.1->langgraph) (6.0.2)\n",
            "Requirement already satisfied: typing-extensions>=4.7 in /usr/local/lib/python3.11/dist-packages (from langchain-core>=0.1->langgraph) (4.14.0)\n",
            "Requirement already satisfied: ormsgpack>=1.10.0 in /usr/local/lib/python3.11/dist-packages (from langgraph-checkpoint<3.0.0,>=2.1.0->langgraph) (1.10.0)\n",
            "Requirement already satisfied: annotated-types>=0.6.0 in /usr/local/lib/python3.11/dist-packages (from pydantic>=2.7.4->langgraph) (0.7.0)\n",
            "Requirement already satisfied: pydantic-core==2.33.2 in /usr/local/lib/python3.11/dist-packages (from pydantic>=2.7.4->langgraph) (2.33.2)\n",
            "Requirement already satisfied: typing-inspection>=0.4.0 in /usr/local/lib/python3.11/dist-packages (from pydantic>=2.7.4->langgraph) (0.4.1)\n",
            "Requirement already satisfied: charset-normalizer<4,>=2 in /usr/local/lib/python3.11/dist-packages (from requests<3,>=2->langsmith) (3.4.2)\n",
            "Requirement already satisfied: urllib3<3,>=1.21.1 in /usr/local/lib/python3.11/dist-packages (from requests<3,>=2->langsmith) (2.4.0)\n",
            "Requirement already satisfied: googleapis-common-protos<2.0.0,>=1.56.2 in /usr/local/lib/python3.11/dist-packages (from google-api-core!=2.0.*,!=2.1.*,!=2.10.*,!=2.2.*,!=2.3.*,!=2.4.*,!=2.5.*,!=2.6.*,!=2.7.*,!=2.8.*,!=2.9.*,<3.0.0,>=1.34.1->google-api-core[grpc]!=2.0.*,!=2.1.*,!=2.10.*,!=2.2.*,!=2.3.*,!=2.4.*,!=2.5.*,!=2.6.*,!=2.7.*,!=2.8.*,!=2.9.*,<3.0.0,>=1.34.1->google-ai-generativelanguage<0.7.0,>=0.6.18->langchain-google-genai) (1.70.0)\n",
            "Requirement already satisfied: grpcio<2.0.0,>=1.33.2 in /usr/local/lib/python3.11/dist-packages (from google-api-core[grpc]!=2.0.*,!=2.1.*,!=2.10.*,!=2.2.*,!=2.3.*,!=2.4.*,!=2.5.*,!=2.6.*,!=2.7.*,!=2.8.*,!=2.9.*,<3.0.0,>=1.34.1->google-ai-generativelanguage<0.7.0,>=0.6.18->langchain-google-genai) (1.73.1)\n",
            "Requirement already satisfied: grpcio-status<2.0.0,>=1.33.2 in /usr/local/lib/python3.11/dist-packages (from google-api-core[grpc]!=2.0.*,!=2.1.*,!=2.10.*,!=2.2.*,!=2.3.*,!=2.4.*,!=2.5.*,!=2.6.*,!=2.7.*,!=2.8.*,!=2.9.*,<3.0.0,>=1.34.1->google-ai-generativelanguage<0.7.0,>=0.6.18->langchain-google-genai) (1.71.2)\n",
            "Requirement already satisfied: cachetools<6.0,>=2.0.0 in /usr/local/lib/python3.11/dist-packages (from google-auth!=2.24.0,!=2.25.0,<3.0.0,>=2.14.1->google-ai-generativelanguage<0.7.0,>=0.6.18->langchain-google-genai) (5.5.2)\n",
            "Requirement already satisfied: pyasn1-modules>=0.2.1 in /usr/local/lib/python3.11/dist-packages (from google-auth!=2.24.0,!=2.25.0,<3.0.0,>=2.14.1->google-ai-generativelanguage<0.7.0,>=0.6.18->langchain-google-genai) (0.4.2)\n",
            "Requirement already satisfied: rsa<5,>=3.1.4 in /usr/local/lib/python3.11/dist-packages (from google-auth!=2.24.0,!=2.25.0,<3.0.0,>=2.14.1->google-ai-generativelanguage<0.7.0,>=0.6.18->langchain-google-genai) (4.9.1)\n",
            "Requirement already satisfied: jsonpointer>=1.9 in /usr/local/lib/python3.11/dist-packages (from jsonpatch<2.0,>=1.33->langchain-core>=0.1->langgraph) (3.0.0)\n",
            "Requirement already satisfied: sniffio>=1.1 in /usr/local/lib/python3.11/dist-packages (from anyio->httpx<1,>=0.23.0->langsmith) (1.3.1)\n",
            "Requirement already satisfied: pyasn1<0.7.0,>=0.6.1 in /usr/local/lib/python3.11/dist-packages (from pyasn1-modules>=0.2.1->google-auth!=2.24.0,!=2.25.0,<3.0.0,>=2.14.1->google-ai-generativelanguage<0.7.0,>=0.6.18->langchain-google-genai) (0.6.1)\n",
            "Requirement already satisfied: langchain-tavily in /usr/local/lib/python3.11/dist-packages (0.2.7)\n",
            "Requirement already satisfied: aiohttp<4.0.0,>=3.11.14 in /usr/local/lib/python3.11/dist-packages (from langchain-tavily) (3.11.15)\n",
            "Requirement already satisfied: langchain<0.4.0,>=0.3.20 in /usr/local/lib/python3.11/dist-packages (from langchain-tavily) (0.3.26)\n",
            "Requirement already satisfied: langchain-core<0.4.0,>=0.3.15 in /usr/local/lib/python3.11/dist-packages (from langchain-tavily) (0.3.67)\n",
            "Requirement already satisfied: requests<3.0.0,>=2.32.3 in /usr/local/lib/python3.11/dist-packages (from langchain-tavily) (2.32.3)\n",
            "Requirement already satisfied: aiohappyeyeballs>=2.3.0 in /usr/local/lib/python3.11/dist-packages (from aiohttp<4.0.0,>=3.11.14->langchain-tavily) (2.6.1)\n",
            "Requirement already satisfied: aiosignal>=1.1.2 in /usr/local/lib/python3.11/dist-packages (from aiohttp<4.0.0,>=3.11.14->langchain-tavily) (1.3.2)\n",
            "Requirement already satisfied: attrs>=17.3.0 in /usr/local/lib/python3.11/dist-packages (from aiohttp<4.0.0,>=3.11.14->langchain-tavily) (25.3.0)\n",
            "Requirement already satisfied: frozenlist>=1.1.1 in /usr/local/lib/python3.11/dist-packages (from aiohttp<4.0.0,>=3.11.14->langchain-tavily) (1.7.0)\n",
            "Requirement already satisfied: multidict<7.0,>=4.5 in /usr/local/lib/python3.11/dist-packages (from aiohttp<4.0.0,>=3.11.14->langchain-tavily) (6.6.3)\n",
            "Requirement already satisfied: propcache>=0.2.0 in /usr/local/lib/python3.11/dist-packages (from aiohttp<4.0.0,>=3.11.14->langchain-tavily) (0.3.2)\n",
            "Requirement already satisfied: yarl<2.0,>=1.17.0 in /usr/local/lib/python3.11/dist-packages (from aiohttp<4.0.0,>=3.11.14->langchain-tavily) (1.20.1)\n",
            "Requirement already satisfied: langchain-text-splitters<1.0.0,>=0.3.8 in /usr/local/lib/python3.11/dist-packages (from langchain<0.4.0,>=0.3.20->langchain-tavily) (0.3.8)\n",
            "Requirement already satisfied: langsmith>=0.1.17 in /usr/local/lib/python3.11/dist-packages (from langchain<0.4.0,>=0.3.20->langchain-tavily) (0.4.4)\n",
            "Requirement already satisfied: pydantic<3.0.0,>=2.7.4 in /usr/local/lib/python3.11/dist-packages (from langchain<0.4.0,>=0.3.20->langchain-tavily) (2.11.7)\n",
            "Requirement already satisfied: SQLAlchemy<3,>=1.4 in /usr/local/lib/python3.11/dist-packages (from langchain<0.4.0,>=0.3.20->langchain-tavily) (2.0.41)\n",
            "Requirement already satisfied: PyYAML>=5.3 in /usr/local/lib/python3.11/dist-packages (from langchain<0.4.0,>=0.3.20->langchain-tavily) (6.0.2)\n",
            "Requirement already satisfied: tenacity!=8.4.0,<10.0.0,>=8.1.0 in /usr/local/lib/python3.11/dist-packages (from langchain-core<0.4.0,>=0.3.15->langchain-tavily) (8.5.0)\n",
            "Requirement already satisfied: jsonpatch<2.0,>=1.33 in /usr/local/lib/python3.11/dist-packages (from langchain-core<0.4.0,>=0.3.15->langchain-tavily) (1.33)\n",
            "Requirement already satisfied: packaging<25,>=23.2 in /usr/local/lib/python3.11/dist-packages (from langchain-core<0.4.0,>=0.3.15->langchain-tavily) (24.2)\n",
            "Requirement already satisfied: typing-extensions>=4.7 in /usr/local/lib/python3.11/dist-packages (from langchain-core<0.4.0,>=0.3.15->langchain-tavily) (4.14.0)\n",
            "Requirement already satisfied: charset-normalizer<4,>=2 in /usr/local/lib/python3.11/dist-packages (from requests<3.0.0,>=2.32.3->langchain-tavily) (3.4.2)\n",
            "Requirement already satisfied: idna<4,>=2.5 in /usr/local/lib/python3.11/dist-packages (from requests<3.0.0,>=2.32.3->langchain-tavily) (3.10)\n",
            "Requirement already satisfied: urllib3<3,>=1.21.1 in /usr/local/lib/python3.11/dist-packages (from requests<3.0.0,>=2.32.3->langchain-tavily) (2.4.0)\n",
            "Requirement already satisfied: certifi>=2017.4.17 in /usr/local/lib/python3.11/dist-packages (from requests<3.0.0,>=2.32.3->langchain-tavily) (2025.6.15)\n",
            "Requirement already satisfied: jsonpointer>=1.9 in /usr/local/lib/python3.11/dist-packages (from jsonpatch<2.0,>=1.33->langchain-core<0.4.0,>=0.3.15->langchain-tavily) (3.0.0)\n",
            "Requirement already satisfied: httpx<1,>=0.23.0 in /usr/local/lib/python3.11/dist-packages (from langsmith>=0.1.17->langchain<0.4.0,>=0.3.20->langchain-tavily) (0.28.1)\n",
            "Requirement already satisfied: orjson<4.0.0,>=3.9.14 in /usr/local/lib/python3.11/dist-packages (from langsmith>=0.1.17->langchain<0.4.0,>=0.3.20->langchain-tavily) (3.10.18)\n",
            "Requirement already satisfied: requests-toolbelt<2.0.0,>=1.0.0 in /usr/local/lib/python3.11/dist-packages (from langsmith>=0.1.17->langchain<0.4.0,>=0.3.20->langchain-tavily) (1.0.0)\n",
            "Requirement already satisfied: zstandard<0.24.0,>=0.23.0 in /usr/local/lib/python3.11/dist-packages (from langsmith>=0.1.17->langchain<0.4.0,>=0.3.20->langchain-tavily) (0.23.0)\n",
            "Requirement already satisfied: annotated-types>=0.6.0 in /usr/local/lib/python3.11/dist-packages (from pydantic<3.0.0,>=2.7.4->langchain<0.4.0,>=0.3.20->langchain-tavily) (0.7.0)\n",
            "Requirement already satisfied: pydantic-core==2.33.2 in /usr/local/lib/python3.11/dist-packages (from pydantic<3.0.0,>=2.7.4->langchain<0.4.0,>=0.3.20->langchain-tavily) (2.33.2)\n",
            "Requirement already satisfied: typing-inspection>=0.4.0 in /usr/local/lib/python3.11/dist-packages (from pydantic<3.0.0,>=2.7.4->langchain<0.4.0,>=0.3.20->langchain-tavily) (0.4.1)\n",
            "Requirement already satisfied: greenlet>=1 in /usr/local/lib/python3.11/dist-packages (from SQLAlchemy<3,>=1.4->langchain<0.4.0,>=0.3.20->langchain-tavily) (3.2.3)\n",
            "Requirement already satisfied: anyio in /usr/local/lib/python3.11/dist-packages (from httpx<1,>=0.23.0->langsmith>=0.1.17->langchain<0.4.0,>=0.3.20->langchain-tavily) (4.9.0)\n",
            "Requirement already satisfied: httpcore==1.* in /usr/local/lib/python3.11/dist-packages (from httpx<1,>=0.23.0->langsmith>=0.1.17->langchain<0.4.0,>=0.3.20->langchain-tavily) (1.0.9)\n",
            "Requirement already satisfied: h11>=0.16 in /usr/local/lib/python3.11/dist-packages (from httpcore==1.*->httpx<1,>=0.23.0->langsmith>=0.1.17->langchain<0.4.0,>=0.3.20->langchain-tavily) (0.16.0)\n",
            "Requirement already satisfied: sniffio>=1.1 in /usr/local/lib/python3.11/dist-packages (from anyio->httpx<1,>=0.23.0->langsmith>=0.1.17->langchain<0.4.0,>=0.3.20->langchain-tavily) (1.3.1)\n",
            "Requirement already satisfied: langchain_community in /usr/local/lib/python3.11/dist-packages (0.3.27)\n",
            "Requirement already satisfied: langchain-core<1.0.0,>=0.3.66 in /usr/local/lib/python3.11/dist-packages (from langchain_community) (0.3.67)\n",
            "Requirement already satisfied: langchain<1.0.0,>=0.3.26 in /usr/local/lib/python3.11/dist-packages (from langchain_community) (0.3.26)\n",
            "Requirement already satisfied: SQLAlchemy<3,>=1.4 in /usr/local/lib/python3.11/dist-packages (from langchain_community) (2.0.41)\n",
            "Requirement already satisfied: requests<3,>=2 in /usr/local/lib/python3.11/dist-packages (from langchain_community) (2.32.3)\n",
            "Requirement already satisfied: PyYAML>=5.3 in /usr/local/lib/python3.11/dist-packages (from langchain_community) (6.0.2)\n",
            "Requirement already satisfied: aiohttp<4.0.0,>=3.8.3 in /usr/local/lib/python3.11/dist-packages (from langchain_community) (3.11.15)\n",
            "Requirement already satisfied: tenacity!=8.4.0,<10,>=8.1.0 in /usr/local/lib/python3.11/dist-packages (from langchain_community) (8.5.0)\n",
            "Requirement already satisfied: dataclasses-json<0.7,>=0.5.7 in /usr/local/lib/python3.11/dist-packages (from langchain_community) (0.6.7)\n",
            "Requirement already satisfied: pydantic-settings<3.0.0,>=2.4.0 in /usr/local/lib/python3.11/dist-packages (from langchain_community) (2.10.1)\n",
            "Requirement already satisfied: langsmith>=0.1.125 in /usr/local/lib/python3.11/dist-packages (from langchain_community) (0.4.4)\n",
            "Requirement already satisfied: httpx-sse<1.0.0,>=0.4.0 in /usr/local/lib/python3.11/dist-packages (from langchain_community) (0.4.1)\n",
            "Requirement already satisfied: numpy>=1.26.2 in /usr/local/lib/python3.11/dist-packages (from langchain_community) (2.0.2)\n",
            "Requirement already satisfied: aiohappyeyeballs>=2.3.0 in /usr/local/lib/python3.11/dist-packages (from aiohttp<4.0.0,>=3.8.3->langchain_community) (2.6.1)\n",
            "Requirement already satisfied: aiosignal>=1.1.2 in /usr/local/lib/python3.11/dist-packages (from aiohttp<4.0.0,>=3.8.3->langchain_community) (1.3.2)\n",
            "Requirement already satisfied: attrs>=17.3.0 in /usr/local/lib/python3.11/dist-packages (from aiohttp<4.0.0,>=3.8.3->langchain_community) (25.3.0)\n",
            "Requirement already satisfied: frozenlist>=1.1.1 in /usr/local/lib/python3.11/dist-packages (from aiohttp<4.0.0,>=3.8.3->langchain_community) (1.7.0)\n",
            "Requirement already satisfied: multidict<7.0,>=4.5 in /usr/local/lib/python3.11/dist-packages (from aiohttp<4.0.0,>=3.8.3->langchain_community) (6.6.3)\n",
            "Requirement already satisfied: propcache>=0.2.0 in /usr/local/lib/python3.11/dist-packages (from aiohttp<4.0.0,>=3.8.3->langchain_community) (0.3.2)\n",
            "Requirement already satisfied: yarl<2.0,>=1.17.0 in /usr/local/lib/python3.11/dist-packages (from aiohttp<4.0.0,>=3.8.3->langchain_community) (1.20.1)\n",
            "Requirement already satisfied: marshmallow<4.0.0,>=3.18.0 in /usr/local/lib/python3.11/dist-packages (from dataclasses-json<0.7,>=0.5.7->langchain_community) (3.26.1)\n",
            "Requirement already satisfied: typing-inspect<1,>=0.4.0 in /usr/local/lib/python3.11/dist-packages (from dataclasses-json<0.7,>=0.5.7->langchain_community) (0.9.0)\n",
            "Requirement already satisfied: langchain-text-splitters<1.0.0,>=0.3.8 in /usr/local/lib/python3.11/dist-packages (from langchain<1.0.0,>=0.3.26->langchain_community) (0.3.8)\n",
            "Requirement already satisfied: pydantic<3.0.0,>=2.7.4 in /usr/local/lib/python3.11/dist-packages (from langchain<1.0.0,>=0.3.26->langchain_community) (2.11.7)\n",
            "Requirement already satisfied: jsonpatch<2.0,>=1.33 in /usr/local/lib/python3.11/dist-packages (from langchain-core<1.0.0,>=0.3.66->langchain_community) (1.33)\n",
            "Requirement already satisfied: packaging<25,>=23.2 in /usr/local/lib/python3.11/dist-packages (from langchain-core<1.0.0,>=0.3.66->langchain_community) (24.2)\n",
            "Requirement already satisfied: typing-extensions>=4.7 in /usr/local/lib/python3.11/dist-packages (from langchain-core<1.0.0,>=0.3.66->langchain_community) (4.14.0)\n",
            "Requirement already satisfied: httpx<1,>=0.23.0 in /usr/local/lib/python3.11/dist-packages (from langsmith>=0.1.125->langchain_community) (0.28.1)\n",
            "Requirement already satisfied: orjson<4.0.0,>=3.9.14 in /usr/local/lib/python3.11/dist-packages (from langsmith>=0.1.125->langchain_community) (3.10.18)\n",
            "Requirement already satisfied: requests-toolbelt<2.0.0,>=1.0.0 in /usr/local/lib/python3.11/dist-packages (from langsmith>=0.1.125->langchain_community) (1.0.0)\n",
            "Requirement already satisfied: zstandard<0.24.0,>=0.23.0 in /usr/local/lib/python3.11/dist-packages (from langsmith>=0.1.125->langchain_community) (0.23.0)\n",
            "Requirement already satisfied: python-dotenv>=0.21.0 in /usr/local/lib/python3.11/dist-packages (from pydantic-settings<3.0.0,>=2.4.0->langchain_community) (1.1.1)\n",
            "Requirement already satisfied: typing-inspection>=0.4.0 in /usr/local/lib/python3.11/dist-packages (from pydantic-settings<3.0.0,>=2.4.0->langchain_community) (0.4.1)\n",
            "Requirement already satisfied: charset-normalizer<4,>=2 in /usr/local/lib/python3.11/dist-packages (from requests<3,>=2->langchain_community) (3.4.2)\n",
            "Requirement already satisfied: idna<4,>=2.5 in /usr/local/lib/python3.11/dist-packages (from requests<3,>=2->langchain_community) (3.10)\n",
            "Requirement already satisfied: urllib3<3,>=1.21.1 in /usr/local/lib/python3.11/dist-packages (from requests<3,>=2->langchain_community) (2.4.0)\n",
            "Requirement already satisfied: certifi>=2017.4.17 in /usr/local/lib/python3.11/dist-packages (from requests<3,>=2->langchain_community) (2025.6.15)\n",
            "Requirement already satisfied: greenlet>=1 in /usr/local/lib/python3.11/dist-packages (from SQLAlchemy<3,>=1.4->langchain_community) (3.2.3)\n",
            "Requirement already satisfied: anyio in /usr/local/lib/python3.11/dist-packages (from httpx<1,>=0.23.0->langsmith>=0.1.125->langchain_community) (4.9.0)\n",
            "Requirement already satisfied: httpcore==1.* in /usr/local/lib/python3.11/dist-packages (from httpx<1,>=0.23.0->langsmith>=0.1.125->langchain_community) (1.0.9)\n",
            "Requirement already satisfied: h11>=0.16 in /usr/local/lib/python3.11/dist-packages (from httpcore==1.*->httpx<1,>=0.23.0->langsmith>=0.1.125->langchain_community) (0.16.0)\n",
            "Requirement already satisfied: jsonpointer>=1.9 in /usr/local/lib/python3.11/dist-packages (from jsonpatch<2.0,>=1.33->langchain-core<1.0.0,>=0.3.66->langchain_community) (3.0.0)\n",
            "Requirement already satisfied: annotated-types>=0.6.0 in /usr/local/lib/python3.11/dist-packages (from pydantic<3.0.0,>=2.7.4->langchain<1.0.0,>=0.3.26->langchain_community) (0.7.0)\n",
            "Requirement already satisfied: pydantic-core==2.33.2 in /usr/local/lib/python3.11/dist-packages (from pydantic<3.0.0,>=2.7.4->langchain<1.0.0,>=0.3.26->langchain_community) (2.33.2)\n",
            "Requirement already satisfied: mypy-extensions>=0.3.0 in /usr/local/lib/python3.11/dist-packages (from typing-inspect<1,>=0.4.0->dataclasses-json<0.7,>=0.5.7->langchain_community) (1.1.0)\n",
            "Requirement already satisfied: sniffio>=1.1 in /usr/local/lib/python3.11/dist-packages (from anyio->httpx<1,>=0.23.0->langsmith>=0.1.125->langchain_community) (1.3.1)\n",
            "Requirement already satisfied: google-search-results in /usr/local/lib/python3.11/dist-packages (2.4.2)\n",
            "Requirement already satisfied: requests in /usr/local/lib/python3.11/dist-packages (from google-search-results) (2.32.3)\n",
            "Requirement already satisfied: charset-normalizer<4,>=2 in /usr/local/lib/python3.11/dist-packages (from requests->google-search-results) (3.4.2)\n",
            "Requirement already satisfied: idna<4,>=2.5 in /usr/local/lib/python3.11/dist-packages (from requests->google-search-results) (3.10)\n",
            "Requirement already satisfied: urllib3<3,>=1.21.1 in /usr/local/lib/python3.11/dist-packages (from requests->google-search-results) (2.4.0)\n",
            "Requirement already satisfied: certifi>=2017.4.17 in /usr/local/lib/python3.11/dist-packages (from requests->google-search-results) (2025.6.15)\n",
            "Requirement already satisfied: pypdf in /usr/local/lib/python3.11/dist-packages (5.7.0)\n",
            "Requirement already satisfied: tiktoken in /usr/local/lib/python3.11/dist-packages (0.9.0)\n",
            "Requirement already satisfied: regex>=2022.1.18 in /usr/local/lib/python3.11/dist-packages (from tiktoken) (2024.11.6)\n",
            "Requirement already satisfied: requests>=2.26.0 in /usr/local/lib/python3.11/dist-packages (from tiktoken) (2.32.3)\n",
            "Requirement already satisfied: charset-normalizer<4,>=2 in /usr/local/lib/python3.11/dist-packages (from requests>=2.26.0->tiktoken) (3.4.2)\n",
            "Requirement already satisfied: idna<4,>=2.5 in /usr/local/lib/python3.11/dist-packages (from requests>=2.26.0->tiktoken) (3.10)\n",
            "Requirement already satisfied: urllib3<3,>=1.21.1 in /usr/local/lib/python3.11/dist-packages (from requests>=2.26.0->tiktoken) (2.4.0)\n",
            "Requirement already satisfied: certifi>=2017.4.17 in /usr/local/lib/python3.11/dist-packages (from requests>=2.26.0->tiktoken) (2025.6.15)\n",
            "Requirement already satisfied: chromadb in /usr/local/lib/python3.11/dist-packages (1.0.15)\n",
            "Requirement already satisfied: build>=1.0.3 in /usr/local/lib/python3.11/dist-packages (from chromadb) (1.2.2.post1)\n",
            "Requirement already satisfied: pydantic>=1.9 in /usr/local/lib/python3.11/dist-packages (from chromadb) (2.11.7)\n",
            "Requirement already satisfied: pybase64>=1.4.1 in /usr/local/lib/python3.11/dist-packages (from chromadb) (1.4.1)\n",
            "Requirement already satisfied: uvicorn>=0.18.3 in /usr/local/lib/python3.11/dist-packages (from uvicorn[standard]>=0.18.3->chromadb) (0.35.0)\n",
            "Requirement already satisfied: numpy>=1.22.5 in /usr/local/lib/python3.11/dist-packages (from chromadb) (2.0.2)\n",
            "Requirement already satisfied: posthog<6.0.0,>=2.4.0 in /usr/local/lib/python3.11/dist-packages (from chromadb) (5.4.0)\n",
            "Requirement already satisfied: typing-extensions>=4.5.0 in /usr/local/lib/python3.11/dist-packages (from chromadb) (4.14.0)\n",
            "Requirement already satisfied: onnxruntime>=1.14.1 in /usr/local/lib/python3.11/dist-packages (from chromadb) (1.22.0)\n",
            "Requirement already satisfied: opentelemetry-api>=1.2.0 in /usr/local/lib/python3.11/dist-packages (from chromadb) (1.34.1)\n",
            "Requirement already satisfied: opentelemetry-exporter-otlp-proto-grpc>=1.2.0 in /usr/local/lib/python3.11/dist-packages (from chromadb) (1.34.1)\n",
            "Requirement already satisfied: opentelemetry-sdk>=1.2.0 in /usr/local/lib/python3.11/dist-packages (from chromadb) (1.34.1)\n",
            "Requirement already satisfied: tokenizers>=0.13.2 in /usr/local/lib/python3.11/dist-packages (from chromadb) (0.21.2)\n",
            "Requirement already satisfied: pypika>=0.48.9 in /usr/local/lib/python3.11/dist-packages (from chromadb) (0.48.9)\n",
            "Requirement already satisfied: tqdm>=4.65.0 in /usr/local/lib/python3.11/dist-packages (from chromadb) (4.67.1)\n",
            "Requirement already satisfied: overrides>=7.3.1 in /usr/local/lib/python3.11/dist-packages (from chromadb) (7.7.0)\n",
            "Requirement already satisfied: importlib-resources in /usr/local/lib/python3.11/dist-packages (from chromadb) (6.5.2)\n",
            "Requirement already satisfied: grpcio>=1.58.0 in /usr/local/lib/python3.11/dist-packages (from chromadb) (1.73.1)\n",
            "Requirement already satisfied: bcrypt>=4.0.1 in /usr/local/lib/python3.11/dist-packages (from chromadb) (4.3.0)\n",
            "Requirement already satisfied: typer>=0.9.0 in /usr/local/lib/python3.11/dist-packages (from chromadb) (0.16.0)\n",
            "Requirement already satisfied: kubernetes>=28.1.0 in /usr/local/lib/python3.11/dist-packages (from chromadb) (33.1.0)\n",
            "Requirement already satisfied: tenacity>=8.2.3 in /usr/local/lib/python3.11/dist-packages (from chromadb) (8.5.0)\n",
            "Requirement already satisfied: pyyaml>=6.0.0 in /usr/local/lib/python3.11/dist-packages (from chromadb) (6.0.2)\n",
            "Requirement already satisfied: mmh3>=4.0.1 in /usr/local/lib/python3.11/dist-packages (from chromadb) (5.1.0)\n",
            "Requirement already satisfied: orjson>=3.9.12 in /usr/local/lib/python3.11/dist-packages (from chromadb) (3.10.18)\n",
            "Requirement already satisfied: httpx>=0.27.0 in /usr/local/lib/python3.11/dist-packages (from chromadb) (0.28.1)\n",
            "Requirement already satisfied: rich>=10.11.0 in /usr/local/lib/python3.11/dist-packages (from chromadb) (13.9.4)\n",
            "Requirement already satisfied: jsonschema>=4.19.0 in /usr/local/lib/python3.11/dist-packages (from chromadb) (4.24.0)\n",
            "Requirement already satisfied: packaging>=19.1 in /usr/local/lib/python3.11/dist-packages (from build>=1.0.3->chromadb) (24.2)\n",
            "Requirement already satisfied: pyproject_hooks in /usr/local/lib/python3.11/dist-packages (from build>=1.0.3->chromadb) (1.2.0)\n",
            "Requirement already satisfied: anyio in /usr/local/lib/python3.11/dist-packages (from httpx>=0.27.0->chromadb) (4.9.0)\n",
            "Requirement already satisfied: certifi in /usr/local/lib/python3.11/dist-packages (from httpx>=0.27.0->chromadb) (2025.6.15)\n",
            "Requirement already satisfied: httpcore==1.* in /usr/local/lib/python3.11/dist-packages (from httpx>=0.27.0->chromadb) (1.0.9)\n",
            "Requirement already satisfied: idna in /usr/local/lib/python3.11/dist-packages (from httpx>=0.27.0->chromadb) (3.10)\n",
            "Requirement already satisfied: h11>=0.16 in /usr/local/lib/python3.11/dist-packages (from httpcore==1.*->httpx>=0.27.0->chromadb) (0.16.0)\n",
            "Requirement already satisfied: attrs>=22.2.0 in /usr/local/lib/python3.11/dist-packages (from jsonschema>=4.19.0->chromadb) (25.3.0)\n",
            "Requirement already satisfied: jsonschema-specifications>=2023.03.6 in /usr/local/lib/python3.11/dist-packages (from jsonschema>=4.19.0->chromadb) (2025.4.1)\n",
            "Requirement already satisfied: referencing>=0.28.4 in /usr/local/lib/python3.11/dist-packages (from jsonschema>=4.19.0->chromadb) (0.36.2)\n",
            "Requirement already satisfied: rpds-py>=0.7.1 in /usr/local/lib/python3.11/dist-packages (from jsonschema>=4.19.0->chromadb) (0.26.0)\n",
            "Requirement already satisfied: six>=1.9.0 in /usr/local/lib/python3.11/dist-packages (from kubernetes>=28.1.0->chromadb) (1.17.0)\n",
            "Requirement already satisfied: python-dateutil>=2.5.3 in /usr/local/lib/python3.11/dist-packages (from kubernetes>=28.1.0->chromadb) (2.9.0.post0)\n",
            "Requirement already satisfied: google-auth>=1.0.1 in /usr/local/lib/python3.11/dist-packages (from kubernetes>=28.1.0->chromadb) (2.38.0)\n",
            "Requirement already satisfied: websocket-client!=0.40.0,!=0.41.*,!=0.42.*,>=0.32.0 in /usr/local/lib/python3.11/dist-packages (from kubernetes>=28.1.0->chromadb) (1.8.0)\n",
            "Requirement already satisfied: requests in /usr/local/lib/python3.11/dist-packages (from kubernetes>=28.1.0->chromadb) (2.32.3)\n",
            "Requirement already satisfied: requests-oauthlib in /usr/local/lib/python3.11/dist-packages (from kubernetes>=28.1.0->chromadb) (2.0.0)\n",
            "Requirement already satisfied: oauthlib>=3.2.2 in /usr/local/lib/python3.11/dist-packages (from kubernetes>=28.1.0->chromadb) (3.3.1)\n",
            "Requirement already satisfied: urllib3>=1.24.2 in /usr/local/lib/python3.11/dist-packages (from kubernetes>=28.1.0->chromadb) (2.4.0)\n",
            "Requirement already satisfied: durationpy>=0.7 in /usr/local/lib/python3.11/dist-packages (from kubernetes>=28.1.0->chromadb) (0.10)\n",
            "Requirement already satisfied: coloredlogs in /usr/local/lib/python3.11/dist-packages (from onnxruntime>=1.14.1->chromadb) (15.0.1)\n",
            "Requirement already satisfied: flatbuffers in /usr/local/lib/python3.11/dist-packages (from onnxruntime>=1.14.1->chromadb) (25.2.10)\n",
            "Requirement already satisfied: protobuf in /usr/local/lib/python3.11/dist-packages (from onnxruntime>=1.14.1->chromadb) (5.29.5)\n",
            "Requirement already satisfied: sympy in /usr/local/lib/python3.11/dist-packages (from onnxruntime>=1.14.1->chromadb) (1.13.1)\n",
            "Requirement already satisfied: importlib-metadata<8.8.0,>=6.0 in /usr/local/lib/python3.11/dist-packages (from opentelemetry-api>=1.2.0->chromadb) (8.7.0)\n",
            "Requirement already satisfied: googleapis-common-protos~=1.52 in /usr/local/lib/python3.11/dist-packages (from opentelemetry-exporter-otlp-proto-grpc>=1.2.0->chromadb) (1.70.0)\n",
            "Requirement already satisfied: opentelemetry-exporter-otlp-proto-common==1.34.1 in /usr/local/lib/python3.11/dist-packages (from opentelemetry-exporter-otlp-proto-grpc>=1.2.0->chromadb) (1.34.1)\n",
            "Requirement already satisfied: opentelemetry-proto==1.34.1 in /usr/local/lib/python3.11/dist-packages (from opentelemetry-exporter-otlp-proto-grpc>=1.2.0->chromadb) (1.34.1)\n",
            "Requirement already satisfied: opentelemetry-semantic-conventions==0.55b1 in /usr/local/lib/python3.11/dist-packages (from opentelemetry-sdk>=1.2.0->chromadb) (0.55b1)\n",
            "Requirement already satisfied: backoff>=1.10.0 in /usr/local/lib/python3.11/dist-packages (from posthog<6.0.0,>=2.4.0->chromadb) (2.2.1)\n",
            "Requirement already satisfied: distro>=1.5.0 in /usr/local/lib/python3.11/dist-packages (from posthog<6.0.0,>=2.4.0->chromadb) (1.9.0)\n",
            "Requirement already satisfied: annotated-types>=0.6.0 in /usr/local/lib/python3.11/dist-packages (from pydantic>=1.9->chromadb) (0.7.0)\n",
            "Requirement already satisfied: pydantic-core==2.33.2 in /usr/local/lib/python3.11/dist-packages (from pydantic>=1.9->chromadb) (2.33.2)\n",
            "Requirement already satisfied: typing-inspection>=0.4.0 in /usr/local/lib/python3.11/dist-packages (from pydantic>=1.9->chromadb) (0.4.1)\n",
            "Requirement already satisfied: markdown-it-py>=2.2.0 in /usr/local/lib/python3.11/dist-packages (from rich>=10.11.0->chromadb) (3.0.0)\n",
            "Requirement already satisfied: pygments<3.0.0,>=2.13.0 in /usr/local/lib/python3.11/dist-packages (from rich>=10.11.0->chromadb) (2.19.2)\n",
            "Requirement already satisfied: huggingface-hub<1.0,>=0.16.4 in /usr/local/lib/python3.11/dist-packages (from tokenizers>=0.13.2->chromadb) (0.33.2)\n",
            "Requirement already satisfied: click>=8.0.0 in /usr/local/lib/python3.11/dist-packages (from typer>=0.9.0->chromadb) (8.2.1)\n",
            "Requirement already satisfied: shellingham>=1.3.0 in /usr/local/lib/python3.11/dist-packages (from typer>=0.9.0->chromadb) (1.5.4)\n",
            "Requirement already satisfied: httptools>=0.6.3 in /usr/local/lib/python3.11/dist-packages (from uvicorn[standard]>=0.18.3->chromadb) (0.6.4)\n",
            "Requirement already satisfied: python-dotenv>=0.13 in /usr/local/lib/python3.11/dist-packages (from uvicorn[standard]>=0.18.3->chromadb) (1.1.1)\n",
            "Requirement already satisfied: uvloop>=0.15.1 in /usr/local/lib/python3.11/dist-packages (from uvicorn[standard]>=0.18.3->chromadb) (0.21.0)\n",
            "Requirement already satisfied: watchfiles>=0.13 in /usr/local/lib/python3.11/dist-packages (from uvicorn[standard]>=0.18.3->chromadb) (1.1.0)\n",
            "Requirement already satisfied: websockets>=10.4 in /usr/local/lib/python3.11/dist-packages (from uvicorn[standard]>=0.18.3->chromadb) (15.0.1)\n",
            "Requirement already satisfied: cachetools<6.0,>=2.0.0 in /usr/local/lib/python3.11/dist-packages (from google-auth>=1.0.1->kubernetes>=28.1.0->chromadb) (5.5.2)\n",
            "Requirement already satisfied: pyasn1-modules>=0.2.1 in /usr/local/lib/python3.11/dist-packages (from google-auth>=1.0.1->kubernetes>=28.1.0->chromadb) (0.4.2)\n",
            "Requirement already satisfied: rsa<5,>=3.1.4 in /usr/local/lib/python3.11/dist-packages (from google-auth>=1.0.1->kubernetes>=28.1.0->chromadb) (4.9.1)\n",
            "Requirement already satisfied: filelock in /usr/local/lib/python3.11/dist-packages (from huggingface-hub<1.0,>=0.16.4->tokenizers>=0.13.2->chromadb) (3.18.0)\n",
            "Requirement already satisfied: fsspec>=2023.5.0 in /usr/local/lib/python3.11/dist-packages (from huggingface-hub<1.0,>=0.16.4->tokenizers>=0.13.2->chromadb) (2025.3.2)\n",
            "Requirement already satisfied: hf-xet<2.0.0,>=1.1.2 in /usr/local/lib/python3.11/dist-packages (from huggingface-hub<1.0,>=0.16.4->tokenizers>=0.13.2->chromadb) (1.1.5)\n",
            "Requirement already satisfied: zipp>=3.20 in /usr/local/lib/python3.11/dist-packages (from importlib-metadata<8.8.0,>=6.0->opentelemetry-api>=1.2.0->chromadb) (3.23.0)\n",
            "Requirement already satisfied: mdurl~=0.1 in /usr/local/lib/python3.11/dist-packages (from markdown-it-py>=2.2.0->rich>=10.11.0->chromadb) (0.1.2)\n",
            "Requirement already satisfied: charset-normalizer<4,>=2 in /usr/local/lib/python3.11/dist-packages (from requests->kubernetes>=28.1.0->chromadb) (3.4.2)\n",
            "Requirement already satisfied: sniffio>=1.1 in /usr/local/lib/python3.11/dist-packages (from anyio->httpx>=0.27.0->chromadb) (1.3.1)\n",
            "Requirement already satisfied: humanfriendly>=9.1 in /usr/local/lib/python3.11/dist-packages (from coloredlogs->onnxruntime>=1.14.1->chromadb) (10.0)\n",
            "Requirement already satisfied: mpmath<1.4,>=1.1.0 in /usr/local/lib/python3.11/dist-packages (from sympy->onnxruntime>=1.14.1->chromadb) (1.3.0)\n",
            "Requirement already satisfied: pyasn1<0.7.0,>=0.6.1 in /usr/local/lib/python3.11/dist-packages (from pyasn1-modules>=0.2.1->google-auth>=1.0.1->kubernetes>=28.1.0->chromadb) (0.6.1)\n",
            "Requirement already satisfied: langchain-chroma in /usr/local/lib/python3.11/dist-packages (0.2.4)\n",
            "Requirement already satisfied: langchain-core>=0.3.60 in /usr/local/lib/python3.11/dist-packages (from langchain-chroma) (0.3.67)\n",
            "Requirement already satisfied: numpy>=1.26.0 in /usr/local/lib/python3.11/dist-packages (from langchain-chroma) (2.0.2)\n",
            "Requirement already satisfied: chromadb>=1.0.9 in /usr/local/lib/python3.11/dist-packages (from langchain-chroma) (1.0.15)\n",
            "Requirement already satisfied: build>=1.0.3 in /usr/local/lib/python3.11/dist-packages (from chromadb>=1.0.9->langchain-chroma) (1.2.2.post1)\n",
            "Requirement already satisfied: pydantic>=1.9 in /usr/local/lib/python3.11/dist-packages (from chromadb>=1.0.9->langchain-chroma) (2.11.7)\n",
            "Requirement already satisfied: pybase64>=1.4.1 in /usr/local/lib/python3.11/dist-packages (from chromadb>=1.0.9->langchain-chroma) (1.4.1)\n",
            "Requirement already satisfied: uvicorn>=0.18.3 in /usr/local/lib/python3.11/dist-packages (from uvicorn[standard]>=0.18.3->chromadb>=1.0.9->langchain-chroma) (0.35.0)\n",
            "Requirement already satisfied: posthog<6.0.0,>=2.4.0 in /usr/local/lib/python3.11/dist-packages (from chromadb>=1.0.9->langchain-chroma) (5.4.0)\n",
            "Requirement already satisfied: typing-extensions>=4.5.0 in /usr/local/lib/python3.11/dist-packages (from chromadb>=1.0.9->langchain-chroma) (4.14.0)\n",
            "Requirement already satisfied: onnxruntime>=1.14.1 in /usr/local/lib/python3.11/dist-packages (from chromadb>=1.0.9->langchain-chroma) (1.22.0)\n",
            "Requirement already satisfied: opentelemetry-api>=1.2.0 in /usr/local/lib/python3.11/dist-packages (from chromadb>=1.0.9->langchain-chroma) (1.34.1)\n",
            "Requirement already satisfied: opentelemetry-exporter-otlp-proto-grpc>=1.2.0 in /usr/local/lib/python3.11/dist-packages (from chromadb>=1.0.9->langchain-chroma) (1.34.1)\n",
            "Requirement already satisfied: opentelemetry-sdk>=1.2.0 in /usr/local/lib/python3.11/dist-packages (from chromadb>=1.0.9->langchain-chroma) (1.34.1)\n",
            "Requirement already satisfied: tokenizers>=0.13.2 in /usr/local/lib/python3.11/dist-packages (from chromadb>=1.0.9->langchain-chroma) (0.21.2)\n",
            "Requirement already satisfied: pypika>=0.48.9 in /usr/local/lib/python3.11/dist-packages (from chromadb>=1.0.9->langchain-chroma) (0.48.9)\n",
            "Requirement already satisfied: tqdm>=4.65.0 in /usr/local/lib/python3.11/dist-packages (from chromadb>=1.0.9->langchain-chroma) (4.67.1)\n",
            "Requirement already satisfied: overrides>=7.3.1 in /usr/local/lib/python3.11/dist-packages (from chromadb>=1.0.9->langchain-chroma) (7.7.0)\n",
            "Requirement already satisfied: importlib-resources in /usr/local/lib/python3.11/dist-packages (from chromadb>=1.0.9->langchain-chroma) (6.5.2)\n",
            "Requirement already satisfied: grpcio>=1.58.0 in /usr/local/lib/python3.11/dist-packages (from chromadb>=1.0.9->langchain-chroma) (1.73.1)\n",
            "Requirement already satisfied: bcrypt>=4.0.1 in /usr/local/lib/python3.11/dist-packages (from chromadb>=1.0.9->langchain-chroma) (4.3.0)\n",
            "Requirement already satisfied: typer>=0.9.0 in /usr/local/lib/python3.11/dist-packages (from chromadb>=1.0.9->langchain-chroma) (0.16.0)\n",
            "Requirement already satisfied: kubernetes>=28.1.0 in /usr/local/lib/python3.11/dist-packages (from chromadb>=1.0.9->langchain-chroma) (33.1.0)\n",
            "Requirement already satisfied: tenacity>=8.2.3 in /usr/local/lib/python3.11/dist-packages (from chromadb>=1.0.9->langchain-chroma) (8.5.0)\n",
            "Requirement already satisfied: pyyaml>=6.0.0 in /usr/local/lib/python3.11/dist-packages (from chromadb>=1.0.9->langchain-chroma) (6.0.2)\n",
            "Requirement already satisfied: mmh3>=4.0.1 in /usr/local/lib/python3.11/dist-packages (from chromadb>=1.0.9->langchain-chroma) (5.1.0)\n",
            "Requirement already satisfied: orjson>=3.9.12 in /usr/local/lib/python3.11/dist-packages (from chromadb>=1.0.9->langchain-chroma) (3.10.18)\n",
            "Requirement already satisfied: httpx>=0.27.0 in /usr/local/lib/python3.11/dist-packages (from chromadb>=1.0.9->langchain-chroma) (0.28.1)\n",
            "Requirement already satisfied: rich>=10.11.0 in /usr/local/lib/python3.11/dist-packages (from chromadb>=1.0.9->langchain-chroma) (13.9.4)\n",
            "Requirement already satisfied: jsonschema>=4.19.0 in /usr/local/lib/python3.11/dist-packages (from chromadb>=1.0.9->langchain-chroma) (4.24.0)\n",
            "Requirement already satisfied: langsmith>=0.3.45 in /usr/local/lib/python3.11/dist-packages (from langchain-core>=0.3.60->langchain-chroma) (0.4.4)\n",
            "Requirement already satisfied: jsonpatch<2.0,>=1.33 in /usr/local/lib/python3.11/dist-packages (from langchain-core>=0.3.60->langchain-chroma) (1.33)\n",
            "Requirement already satisfied: packaging<25,>=23.2 in /usr/local/lib/python3.11/dist-packages (from langchain-core>=0.3.60->langchain-chroma) (24.2)\n",
            "Requirement already satisfied: pyproject_hooks in /usr/local/lib/python3.11/dist-packages (from build>=1.0.3->chromadb>=1.0.9->langchain-chroma) (1.2.0)\n",
            "Requirement already satisfied: anyio in /usr/local/lib/python3.11/dist-packages (from httpx>=0.27.0->chromadb>=1.0.9->langchain-chroma) (4.9.0)\n",
            "Requirement already satisfied: certifi in /usr/local/lib/python3.11/dist-packages (from httpx>=0.27.0->chromadb>=1.0.9->langchain-chroma) (2025.6.15)\n",
            "Requirement already satisfied: httpcore==1.* in /usr/local/lib/python3.11/dist-packages (from httpx>=0.27.0->chromadb>=1.0.9->langchain-chroma) (1.0.9)\n",
            "Requirement already satisfied: idna in /usr/local/lib/python3.11/dist-packages (from httpx>=0.27.0->chromadb>=1.0.9->langchain-chroma) (3.10)\n",
            "Requirement already satisfied: h11>=0.16 in /usr/local/lib/python3.11/dist-packages (from httpcore==1.*->httpx>=0.27.0->chromadb>=1.0.9->langchain-chroma) (0.16.0)\n",
            "Requirement already satisfied: jsonpointer>=1.9 in /usr/local/lib/python3.11/dist-packages (from jsonpatch<2.0,>=1.33->langchain-core>=0.3.60->langchain-chroma) (3.0.0)\n",
            "Requirement already satisfied: attrs>=22.2.0 in /usr/local/lib/python3.11/dist-packages (from jsonschema>=4.19.0->chromadb>=1.0.9->langchain-chroma) (25.3.0)\n",
            "Requirement already satisfied: jsonschema-specifications>=2023.03.6 in /usr/local/lib/python3.11/dist-packages (from jsonschema>=4.19.0->chromadb>=1.0.9->langchain-chroma) (2025.4.1)\n",
            "Requirement already satisfied: referencing>=0.28.4 in /usr/local/lib/python3.11/dist-packages (from jsonschema>=4.19.0->chromadb>=1.0.9->langchain-chroma) (0.36.2)\n",
            "Requirement already satisfied: rpds-py>=0.7.1 in /usr/local/lib/python3.11/dist-packages (from jsonschema>=4.19.0->chromadb>=1.0.9->langchain-chroma) (0.26.0)\n",
            "Requirement already satisfied: six>=1.9.0 in /usr/local/lib/python3.11/dist-packages (from kubernetes>=28.1.0->chromadb>=1.0.9->langchain-chroma) (1.17.0)\n",
            "Requirement already satisfied: python-dateutil>=2.5.3 in /usr/local/lib/python3.11/dist-packages (from kubernetes>=28.1.0->chromadb>=1.0.9->langchain-chroma) (2.9.0.post0)\n",
            "Requirement already satisfied: google-auth>=1.0.1 in /usr/local/lib/python3.11/dist-packages (from kubernetes>=28.1.0->chromadb>=1.0.9->langchain-chroma) (2.38.0)\n",
            "Requirement already satisfied: websocket-client!=0.40.0,!=0.41.*,!=0.42.*,>=0.32.0 in /usr/local/lib/python3.11/dist-packages (from kubernetes>=28.1.0->chromadb>=1.0.9->langchain-chroma) (1.8.0)\n",
            "Requirement already satisfied: requests in /usr/local/lib/python3.11/dist-packages (from kubernetes>=28.1.0->chromadb>=1.0.9->langchain-chroma) (2.32.3)\n",
            "Requirement already satisfied: requests-oauthlib in /usr/local/lib/python3.11/dist-packages (from kubernetes>=28.1.0->chromadb>=1.0.9->langchain-chroma) (2.0.0)\n",
            "Requirement already satisfied: oauthlib>=3.2.2 in /usr/local/lib/python3.11/dist-packages (from kubernetes>=28.1.0->chromadb>=1.0.9->langchain-chroma) (3.3.1)\n",
            "Requirement already satisfied: urllib3>=1.24.2 in /usr/local/lib/python3.11/dist-packages (from kubernetes>=28.1.0->chromadb>=1.0.9->langchain-chroma) (2.4.0)\n",
            "Requirement already satisfied: durationpy>=0.7 in /usr/local/lib/python3.11/dist-packages (from kubernetes>=28.1.0->chromadb>=1.0.9->langchain-chroma) (0.10)\n",
            "Requirement already satisfied: requests-toolbelt<2.0.0,>=1.0.0 in /usr/local/lib/python3.11/dist-packages (from langsmith>=0.3.45->langchain-core>=0.3.60->langchain-chroma) (1.0.0)\n",
            "Requirement already satisfied: zstandard<0.24.0,>=0.23.0 in /usr/local/lib/python3.11/dist-packages (from langsmith>=0.3.45->langchain-core>=0.3.60->langchain-chroma) (0.23.0)\n",
            "Requirement already satisfied: coloredlogs in /usr/local/lib/python3.11/dist-packages (from onnxruntime>=1.14.1->chromadb>=1.0.9->langchain-chroma) (15.0.1)\n",
            "Requirement already satisfied: flatbuffers in /usr/local/lib/python3.11/dist-packages (from onnxruntime>=1.14.1->chromadb>=1.0.9->langchain-chroma) (25.2.10)\n",
            "Requirement already satisfied: protobuf in /usr/local/lib/python3.11/dist-packages (from onnxruntime>=1.14.1->chromadb>=1.0.9->langchain-chroma) (5.29.5)\n",
            "Requirement already satisfied: sympy in /usr/local/lib/python3.11/dist-packages (from onnxruntime>=1.14.1->chromadb>=1.0.9->langchain-chroma) (1.13.1)\n",
            "Requirement already satisfied: importlib-metadata<8.8.0,>=6.0 in /usr/local/lib/python3.11/dist-packages (from opentelemetry-api>=1.2.0->chromadb>=1.0.9->langchain-chroma) (8.7.0)\n",
            "Requirement already satisfied: googleapis-common-protos~=1.52 in /usr/local/lib/python3.11/dist-packages (from opentelemetry-exporter-otlp-proto-grpc>=1.2.0->chromadb>=1.0.9->langchain-chroma) (1.70.0)\n",
            "Requirement already satisfied: opentelemetry-exporter-otlp-proto-common==1.34.1 in /usr/local/lib/python3.11/dist-packages (from opentelemetry-exporter-otlp-proto-grpc>=1.2.0->chromadb>=1.0.9->langchain-chroma) (1.34.1)\n",
            "Requirement already satisfied: opentelemetry-proto==1.34.1 in /usr/local/lib/python3.11/dist-packages (from opentelemetry-exporter-otlp-proto-grpc>=1.2.0->chromadb>=1.0.9->langchain-chroma) (1.34.1)\n",
            "Requirement already satisfied: opentelemetry-semantic-conventions==0.55b1 in /usr/local/lib/python3.11/dist-packages (from opentelemetry-sdk>=1.2.0->chromadb>=1.0.9->langchain-chroma) (0.55b1)\n",
            "Requirement already satisfied: backoff>=1.10.0 in /usr/local/lib/python3.11/dist-packages (from posthog<6.0.0,>=2.4.0->chromadb>=1.0.9->langchain-chroma) (2.2.1)\n",
            "Requirement already satisfied: distro>=1.5.0 in /usr/local/lib/python3.11/dist-packages (from posthog<6.0.0,>=2.4.0->chromadb>=1.0.9->langchain-chroma) (1.9.0)\n",
            "Requirement already satisfied: annotated-types>=0.6.0 in /usr/local/lib/python3.11/dist-packages (from pydantic>=1.9->chromadb>=1.0.9->langchain-chroma) (0.7.0)\n",
            "Requirement already satisfied: pydantic-core==2.33.2 in /usr/local/lib/python3.11/dist-packages (from pydantic>=1.9->chromadb>=1.0.9->langchain-chroma) (2.33.2)\n",
            "Requirement already satisfied: typing-inspection>=0.4.0 in /usr/local/lib/python3.11/dist-packages (from pydantic>=1.9->chromadb>=1.0.9->langchain-chroma) (0.4.1)\n",
            "Requirement already satisfied: markdown-it-py>=2.2.0 in /usr/local/lib/python3.11/dist-packages (from rich>=10.11.0->chromadb>=1.0.9->langchain-chroma) (3.0.0)\n",
            "Requirement already satisfied: pygments<3.0.0,>=2.13.0 in /usr/local/lib/python3.11/dist-packages (from rich>=10.11.0->chromadb>=1.0.9->langchain-chroma) (2.19.2)\n",
            "Requirement already satisfied: huggingface-hub<1.0,>=0.16.4 in /usr/local/lib/python3.11/dist-packages (from tokenizers>=0.13.2->chromadb>=1.0.9->langchain-chroma) (0.33.2)\n",
            "Requirement already satisfied: click>=8.0.0 in /usr/local/lib/python3.11/dist-packages (from typer>=0.9.0->chromadb>=1.0.9->langchain-chroma) (8.2.1)\n",
            "Requirement already satisfied: shellingham>=1.3.0 in /usr/local/lib/python3.11/dist-packages (from typer>=0.9.0->chromadb>=1.0.9->langchain-chroma) (1.5.4)\n",
            "Requirement already satisfied: httptools>=0.6.3 in /usr/local/lib/python3.11/dist-packages (from uvicorn[standard]>=0.18.3->chromadb>=1.0.9->langchain-chroma) (0.6.4)\n",
            "Requirement already satisfied: python-dotenv>=0.13 in /usr/local/lib/python3.11/dist-packages (from uvicorn[standard]>=0.18.3->chromadb>=1.0.9->langchain-chroma) (1.1.1)\n",
            "Requirement already satisfied: uvloop>=0.15.1 in /usr/local/lib/python3.11/dist-packages (from uvicorn[standard]>=0.18.3->chromadb>=1.0.9->langchain-chroma) (0.21.0)\n",
            "Requirement already satisfied: watchfiles>=0.13 in /usr/local/lib/python3.11/dist-packages (from uvicorn[standard]>=0.18.3->chromadb>=1.0.9->langchain-chroma) (1.1.0)\n",
            "Requirement already satisfied: websockets>=10.4 in /usr/local/lib/python3.11/dist-packages (from uvicorn[standard]>=0.18.3->chromadb>=1.0.9->langchain-chroma) (15.0.1)\n",
            "Requirement already satisfied: cachetools<6.0,>=2.0.0 in /usr/local/lib/python3.11/dist-packages (from google-auth>=1.0.1->kubernetes>=28.1.0->chromadb>=1.0.9->langchain-chroma) (5.5.2)\n",
            "Requirement already satisfied: pyasn1-modules>=0.2.1 in /usr/local/lib/python3.11/dist-packages (from google-auth>=1.0.1->kubernetes>=28.1.0->chromadb>=1.0.9->langchain-chroma) (0.4.2)\n",
            "Requirement already satisfied: rsa<5,>=3.1.4 in /usr/local/lib/python3.11/dist-packages (from google-auth>=1.0.1->kubernetes>=28.1.0->chromadb>=1.0.9->langchain-chroma) (4.9.1)\n",
            "Requirement already satisfied: filelock in /usr/local/lib/python3.11/dist-packages (from huggingface-hub<1.0,>=0.16.4->tokenizers>=0.13.2->chromadb>=1.0.9->langchain-chroma) (3.18.0)\n",
            "Requirement already satisfied: fsspec>=2023.5.0 in /usr/local/lib/python3.11/dist-packages (from huggingface-hub<1.0,>=0.16.4->tokenizers>=0.13.2->chromadb>=1.0.9->langchain-chroma) (2025.3.2)\n",
            "Requirement already satisfied: hf-xet<2.0.0,>=1.1.2 in /usr/local/lib/python3.11/dist-packages (from huggingface-hub<1.0,>=0.16.4->tokenizers>=0.13.2->chromadb>=1.0.9->langchain-chroma) (1.1.5)\n",
            "Requirement already satisfied: zipp>=3.20 in /usr/local/lib/python3.11/dist-packages (from importlib-metadata<8.8.0,>=6.0->opentelemetry-api>=1.2.0->chromadb>=1.0.9->langchain-chroma) (3.23.0)\n",
            "Requirement already satisfied: mdurl~=0.1 in /usr/local/lib/python3.11/dist-packages (from markdown-it-py>=2.2.0->rich>=10.11.0->chromadb>=1.0.9->langchain-chroma) (0.1.2)\n",
            "Requirement already satisfied: charset-normalizer<4,>=2 in /usr/local/lib/python3.11/dist-packages (from requests->kubernetes>=28.1.0->chromadb>=1.0.9->langchain-chroma) (3.4.2)\n",
            "Requirement already satisfied: sniffio>=1.1 in /usr/local/lib/python3.11/dist-packages (from anyio->httpx>=0.27.0->chromadb>=1.0.9->langchain-chroma) (1.3.1)\n",
            "Requirement already satisfied: humanfriendly>=9.1 in /usr/local/lib/python3.11/dist-packages (from coloredlogs->onnxruntime>=1.14.1->chromadb>=1.0.9->langchain-chroma) (10.0)\n",
            "Requirement already satisfied: mpmath<1.4,>=1.1.0 in /usr/local/lib/python3.11/dist-packages (from sympy->onnxruntime>=1.14.1->chromadb>=1.0.9->langchain-chroma) (1.3.0)\n",
            "Requirement already satisfied: pyasn1<0.7.0,>=0.6.1 in /usr/local/lib/python3.11/dist-packages (from pyasn1-modules>=0.2.1->google-auth>=1.0.1->kubernetes>=28.1.0->chromadb>=1.0.9->langchain-chroma) (0.6.1)\n",
            "Requirement already satisfied: unstructured in /usr/local/lib/python3.11/dist-packages (0.18.3)\n",
            "Requirement already satisfied: chardet in /usr/local/lib/python3.11/dist-packages (from unstructured) (5.2.0)\n",
            "Requirement already satisfied: filetype in /usr/local/lib/python3.11/dist-packages (from unstructured) (1.2.0)\n",
            "Requirement already satisfied: python-magic in /usr/local/lib/python3.11/dist-packages (from unstructured) (0.4.27)\n",
            "Requirement already satisfied: lxml in /usr/local/lib/python3.11/dist-packages (from unstructured) (5.4.0)\n",
            "Requirement already satisfied: nltk in /usr/local/lib/python3.11/dist-packages (from unstructured) (3.9.1)\n",
            "Requirement already satisfied: requests in /usr/local/lib/python3.11/dist-packages (from unstructured) (2.32.3)\n",
            "Requirement already satisfied: beautifulsoup4 in /usr/local/lib/python3.11/dist-packages (from unstructured) (4.13.4)\n",
            "Requirement already satisfied: emoji in /usr/local/lib/python3.11/dist-packages (from unstructured) (2.14.1)\n",
            "Requirement already satisfied: dataclasses-json in /usr/local/lib/python3.11/dist-packages (from unstructured) (0.6.7)\n",
            "Requirement already satisfied: python-iso639 in /usr/local/lib/python3.11/dist-packages (from unstructured) (2025.2.18)\n",
            "Requirement already satisfied: langdetect in /usr/local/lib/python3.11/dist-packages (from unstructured) (1.0.9)\n",
            "Requirement already satisfied: numpy in /usr/local/lib/python3.11/dist-packages (from unstructured) (2.0.2)\n",
            "Requirement already satisfied: rapidfuzz in /usr/local/lib/python3.11/dist-packages (from unstructured) (3.13.0)\n",
            "Requirement already satisfied: backoff in /usr/local/lib/python3.11/dist-packages (from unstructured) (2.2.1)\n",
            "Requirement already satisfied: typing-extensions in /usr/local/lib/python3.11/dist-packages (from unstructured) (4.14.0)\n",
            "Requirement already satisfied: unstructured-client in /usr/local/lib/python3.11/dist-packages (from unstructured) (0.38.1)\n",
            "Requirement already satisfied: wrapt in /usr/local/lib/python3.11/dist-packages (from unstructured) (1.17.2)\n",
            "Requirement already satisfied: tqdm in /usr/local/lib/python3.11/dist-packages (from unstructured) (4.67.1)\n",
            "Requirement already satisfied: psutil in /usr/local/lib/python3.11/dist-packages (from unstructured) (5.9.5)\n",
            "Requirement already satisfied: python-oxmsg in /usr/local/lib/python3.11/dist-packages (from unstructured) (0.0.2)\n",
            "Requirement already satisfied: html5lib in /usr/local/lib/python3.11/dist-packages (from unstructured) (1.1)\n",
            "Requirement already satisfied: soupsieve>1.2 in /usr/local/lib/python3.11/dist-packages (from beautifulsoup4->unstructured) (2.7)\n",
            "Requirement already satisfied: marshmallow<4.0.0,>=3.18.0 in /usr/local/lib/python3.11/dist-packages (from dataclasses-json->unstructured) (3.26.1)\n",
            "Requirement already satisfied: typing-inspect<1,>=0.4.0 in /usr/local/lib/python3.11/dist-packages (from dataclasses-json->unstructured) (0.9.0)\n",
            "Requirement already satisfied: six>=1.9 in /usr/local/lib/python3.11/dist-packages (from html5lib->unstructured) (1.17.0)\n",
            "Requirement already satisfied: webencodings in /usr/local/lib/python3.11/dist-packages (from html5lib->unstructured) (0.5.1)\n",
            "Requirement already satisfied: click in /usr/local/lib/python3.11/dist-packages (from nltk->unstructured) (8.2.1)\n",
            "Requirement already satisfied: joblib in /usr/local/lib/python3.11/dist-packages (from nltk->unstructured) (1.5.1)\n",
            "Requirement already satisfied: regex>=2021.8.3 in /usr/local/lib/python3.11/dist-packages (from nltk->unstructured) (2024.11.6)\n",
            "Requirement already satisfied: olefile in /usr/local/lib/python3.11/dist-packages (from python-oxmsg->unstructured) (0.47)\n",
            "Requirement already satisfied: charset-normalizer<4,>=2 in /usr/local/lib/python3.11/dist-packages (from requests->unstructured) (3.4.2)\n",
            "Requirement already satisfied: idna<4,>=2.5 in /usr/local/lib/python3.11/dist-packages (from requests->unstructured) (3.10)\n",
            "Requirement already satisfied: urllib3<3,>=1.21.1 in /usr/local/lib/python3.11/dist-packages (from requests->unstructured) (2.4.0)\n",
            "Requirement already satisfied: certifi>=2017.4.17 in /usr/local/lib/python3.11/dist-packages (from requests->unstructured) (2025.6.15)\n",
            "Requirement already satisfied: aiofiles>=24.1.0 in /usr/local/lib/python3.11/dist-packages (from unstructured-client->unstructured) (24.1.0)\n",
            "Requirement already satisfied: cryptography>=3.1 in /usr/local/lib/python3.11/dist-packages (from unstructured-client->unstructured) (43.0.3)\n",
            "Requirement already satisfied: httpx>=0.27.0 in /usr/local/lib/python3.11/dist-packages (from unstructured-client->unstructured) (0.28.1)\n",
            "Requirement already satisfied: nest-asyncio>=1.6.0 in /usr/local/lib/python3.11/dist-packages (from unstructured-client->unstructured) (1.6.0)\n",
            "Requirement already satisfied: pydantic>=2.11.2 in /usr/local/lib/python3.11/dist-packages (from unstructured-client->unstructured) (2.11.7)\n",
            "Requirement already satisfied: pypdf>=4.0 in /usr/local/lib/python3.11/dist-packages (from unstructured-client->unstructured) (5.7.0)\n",
            "Requirement already satisfied: requests-toolbelt>=1.0.0 in /usr/local/lib/python3.11/dist-packages (from unstructured-client->unstructured) (1.0.0)\n",
            "Requirement already satisfied: cffi>=1.12 in /usr/local/lib/python3.11/dist-packages (from cryptography>=3.1->unstructured-client->unstructured) (1.17.1)\n",
            "Requirement already satisfied: anyio in /usr/local/lib/python3.11/dist-packages (from httpx>=0.27.0->unstructured-client->unstructured) (4.9.0)\n",
            "Requirement already satisfied: httpcore==1.* in /usr/local/lib/python3.11/dist-packages (from httpx>=0.27.0->unstructured-client->unstructured) (1.0.9)\n",
            "Requirement already satisfied: h11>=0.16 in /usr/local/lib/python3.11/dist-packages (from httpcore==1.*->httpx>=0.27.0->unstructured-client->unstructured) (0.16.0)\n",
            "Requirement already satisfied: packaging>=17.0 in /usr/local/lib/python3.11/dist-packages (from marshmallow<4.0.0,>=3.18.0->dataclasses-json->unstructured) (24.2)\n",
            "Requirement already satisfied: annotated-types>=0.6.0 in /usr/local/lib/python3.11/dist-packages (from pydantic>=2.11.2->unstructured-client->unstructured) (0.7.0)\n",
            "Requirement already satisfied: pydantic-core==2.33.2 in /usr/local/lib/python3.11/dist-packages (from pydantic>=2.11.2->unstructured-client->unstructured) (2.33.2)\n",
            "Requirement already satisfied: typing-inspection>=0.4.0 in /usr/local/lib/python3.11/dist-packages (from pydantic>=2.11.2->unstructured-client->unstructured) (0.4.1)\n",
            "Requirement already satisfied: mypy-extensions>=0.3.0 in /usr/local/lib/python3.11/dist-packages (from typing-inspect<1,>=0.4.0->dataclasses-json->unstructured) (1.1.0)\n",
            "Requirement already satisfied: pycparser in /usr/local/lib/python3.11/dist-packages (from cffi>=1.12->cryptography>=3.1->unstructured-client->unstructured) (2.22)\n",
            "Requirement already satisfied: sniffio>=1.1 in /usr/local/lib/python3.11/dist-packages (from anyio->httpx>=0.27.0->unstructured-client->unstructured) (1.3.1)\n",
            "Requirement already satisfied: pdfminer.six in /usr/local/lib/python3.11/dist-packages (20250506)\n",
            "Requirement already satisfied: charset-normalizer>=2.0.0 in /usr/local/lib/python3.11/dist-packages (from pdfminer.six) (3.4.2)\n",
            "Requirement already satisfied: cryptography>=36.0.0 in /usr/local/lib/python3.11/dist-packages (from pdfminer.six) (43.0.3)\n",
            "Requirement already satisfied: cffi>=1.12 in /usr/local/lib/python3.11/dist-packages (from cryptography>=36.0.0->pdfminer.six) (1.17.1)\n",
            "Requirement already satisfied: pycparser in /usr/local/lib/python3.11/dist-packages (from cffi>=1.12->cryptography>=36.0.0->pdfminer.six) (2.22)\n",
            "Requirement already satisfied: pi-heif in /usr/local/lib/python3.11/dist-packages (1.0.0)\n",
            "Requirement already satisfied: pillow>=11.1.0 in /usr/local/lib/python3.11/dist-packages (from pi-heif) (11.2.1)\n",
            "Requirement already satisfied: unstructured[local-inference] in /usr/local/lib/python3.11/dist-packages (0.18.3)\n",
            "Requirement already satisfied: chardet in /usr/local/lib/python3.11/dist-packages (from unstructured[local-inference]) (5.2.0)\n",
            "Requirement already satisfied: filetype in /usr/local/lib/python3.11/dist-packages (from unstructured[local-inference]) (1.2.0)\n",
            "Requirement already satisfied: python-magic in /usr/local/lib/python3.11/dist-packages (from unstructured[local-inference]) (0.4.27)\n",
            "Requirement already satisfied: lxml in /usr/local/lib/python3.11/dist-packages (from unstructured[local-inference]) (5.4.0)\n",
            "Requirement already satisfied: nltk in /usr/local/lib/python3.11/dist-packages (from unstructured[local-inference]) (3.9.1)\n",
            "Requirement already satisfied: requests in /usr/local/lib/python3.11/dist-packages (from unstructured[local-inference]) (2.32.3)\n",
            "Requirement already satisfied: beautifulsoup4 in /usr/local/lib/python3.11/dist-packages (from unstructured[local-inference]) (4.13.4)\n",
            "Requirement already satisfied: emoji in /usr/local/lib/python3.11/dist-packages (from unstructured[local-inference]) (2.14.1)\n",
            "Requirement already satisfied: dataclasses-json in /usr/local/lib/python3.11/dist-packages (from unstructured[local-inference]) (0.6.7)\n",
            "Requirement already satisfied: python-iso639 in /usr/local/lib/python3.11/dist-packages (from unstructured[local-inference]) (2025.2.18)\n",
            "Requirement already satisfied: langdetect in /usr/local/lib/python3.11/dist-packages (from unstructured[local-inference]) (1.0.9)\n",
            "Requirement already satisfied: numpy in /usr/local/lib/python3.11/dist-packages (from unstructured[local-inference]) (2.0.2)\n",
            "Requirement already satisfied: rapidfuzz in /usr/local/lib/python3.11/dist-packages (from unstructured[local-inference]) (3.13.0)\n",
            "Requirement already satisfied: backoff in /usr/local/lib/python3.11/dist-packages (from unstructured[local-inference]) (2.2.1)\n",
            "Requirement already satisfied: typing-extensions in /usr/local/lib/python3.11/dist-packages (from unstructured[local-inference]) (4.14.0)\n",
            "Requirement already satisfied: unstructured-client in /usr/local/lib/python3.11/dist-packages (from unstructured[local-inference]) (0.38.1)\n",
            "Requirement already satisfied: wrapt in /usr/local/lib/python3.11/dist-packages (from unstructured[local-inference]) (1.17.2)\n",
            "Requirement already satisfied: tqdm in /usr/local/lib/python3.11/dist-packages (from unstructured[local-inference]) (4.67.1)\n",
            "Requirement already satisfied: psutil in /usr/local/lib/python3.11/dist-packages (from unstructured[local-inference]) (5.9.5)\n",
            "Requirement already satisfied: python-oxmsg in /usr/local/lib/python3.11/dist-packages (from unstructured[local-inference]) (0.0.2)\n",
            "Requirement already satisfied: html5lib in /usr/local/lib/python3.11/dist-packages (from unstructured[local-inference]) (1.1)\n",
            "Requirement already satisfied: markdown in /usr/local/lib/python3.11/dist-packages (from unstructured[local-inference]) (3.8.2)\n",
            "Requirement already satisfied: pikepdf in /usr/local/lib/python3.11/dist-packages (from unstructured[local-inference]) (9.9.0)\n",
            "Requirement already satisfied: google-cloud-vision in /usr/local/lib/python3.11/dist-packages (from unstructured[local-inference]) (3.10.2)\n",
            "Requirement already satisfied: python-docx>=1.1.2 in /usr/local/lib/python3.11/dist-packages (from unstructured[local-inference]) (1.2.0)\n",
            "Requirement already satisfied: pi-heif in /usr/local/lib/python3.11/dist-packages (from unstructured[local-inference]) (1.0.0)\n",
            "Requirement already satisfied: pdf2image in /usr/local/lib/python3.11/dist-packages (from unstructured[local-inference]) (1.17.0)\n",
            "Requirement already satisfied: pdfminer.six in /usr/local/lib/python3.11/dist-packages (from unstructured[local-inference]) (20250506)\n",
            "Requirement already satisfied: xlrd in /usr/local/lib/python3.11/dist-packages (from unstructured[local-inference]) (2.0.2)\n",
            "Requirement already satisfied: pypandoc in /usr/local/lib/python3.11/dist-packages (from unstructured[local-inference]) (1.15)\n",
            "Requirement already satisfied: onnxruntime>=1.19.0 in /usr/local/lib/python3.11/dist-packages (from unstructured[local-inference]) (1.22.0)\n",
            "Requirement already satisfied: networkx in /usr/local/lib/python3.11/dist-packages (from unstructured[local-inference]) (3.5)\n",
            "Requirement already satisfied: python-pptx>=1.0.1 in /usr/local/lib/python3.11/dist-packages (from unstructured[local-inference]) (1.0.2)\n",
            "Requirement already satisfied: pypdf in /usr/local/lib/python3.11/dist-packages (from unstructured[local-inference]) (5.7.0)\n",
            "Requirement already satisfied: effdet in /usr/local/lib/python3.11/dist-packages (from unstructured[local-inference]) (0.4.1)\n",
            "Requirement already satisfied: openpyxl in /usr/local/lib/python3.11/dist-packages (from unstructured[local-inference]) (3.1.5)\n",
            "Requirement already satisfied: pandas in /usr/local/lib/python3.11/dist-packages (from unstructured[local-inference]) (2.2.2)\n",
            "Requirement already satisfied: onnx>=1.17.0 in /usr/local/lib/python3.11/dist-packages (from unstructured[local-inference]) (1.18.0)\n",
            "Requirement already satisfied: unstructured-inference>=1.0.5 in /usr/local/lib/python3.11/dist-packages (from unstructured[local-inference]) (1.0.5)\n",
            "Requirement already satisfied: unstructured.pytesseract>=0.3.12 in /usr/local/lib/python3.11/dist-packages (from unstructured[local-inference]) (0.3.15)\n",
            "Requirement already satisfied: protobuf>=4.25.1 in /usr/local/lib/python3.11/dist-packages (from onnx>=1.17.0->unstructured[local-inference]) (5.29.5)\n",
            "Requirement already satisfied: coloredlogs in /usr/local/lib/python3.11/dist-packages (from onnxruntime>=1.19.0->unstructured[local-inference]) (15.0.1)\n",
            "Requirement already satisfied: flatbuffers in /usr/local/lib/python3.11/dist-packages (from onnxruntime>=1.19.0->unstructured[local-inference]) (25.2.10)\n",
            "Requirement already satisfied: packaging in /usr/local/lib/python3.11/dist-packages (from onnxruntime>=1.19.0->unstructured[local-inference]) (24.2)\n",
            "Requirement already satisfied: sympy in /usr/local/lib/python3.11/dist-packages (from onnxruntime>=1.19.0->unstructured[local-inference]) (1.13.1)\n",
            "Requirement already satisfied: Pillow>=3.3.2 in /usr/local/lib/python3.11/dist-packages (from python-pptx>=1.0.1->unstructured[local-inference]) (11.2.1)\n",
            "Requirement already satisfied: XlsxWriter>=0.5.7 in /usr/local/lib/python3.11/dist-packages (from python-pptx>=1.0.1->unstructured[local-inference]) (3.2.5)\n",
            "Requirement already satisfied: python-multipart in /usr/local/lib/python3.11/dist-packages (from unstructured-inference>=1.0.5->unstructured[local-inference]) (0.0.20)\n",
            "Requirement already satisfied: huggingface-hub in /usr/local/lib/python3.11/dist-packages (from unstructured-inference>=1.0.5->unstructured[local-inference]) (0.33.2)\n",
            "Requirement already satisfied: opencv-python!=4.7.0.68 in /usr/local/lib/python3.11/dist-packages (from unstructured-inference>=1.0.5->unstructured[local-inference]) (4.11.0.86)\n",
            "Requirement already satisfied: matplotlib in /usr/local/lib/python3.11/dist-packages (from unstructured-inference>=1.0.5->unstructured[local-inference]) (3.10.0)\n",
            "Requirement already satisfied: torch in /usr/local/lib/python3.11/dist-packages (from unstructured-inference>=1.0.5->unstructured[local-inference]) (2.6.0+cu124)\n",
            "Requirement already satisfied: timm in /usr/local/lib/python3.11/dist-packages (from unstructured-inference>=1.0.5->unstructured[local-inference]) (1.0.16)\n",
            "Requirement already satisfied: transformers>=4.25.1 in /usr/local/lib/python3.11/dist-packages (from unstructured-inference>=1.0.5->unstructured[local-inference]) (4.53.0)\n",
            "Requirement already satisfied: accelerate in /usr/local/lib/python3.11/dist-packages (from unstructured-inference>=1.0.5->unstructured[local-inference]) (1.8.1)\n",
            "Requirement already satisfied: scipy in /usr/local/lib/python3.11/dist-packages (from unstructured-inference>=1.0.5->unstructured[local-inference]) (1.15.3)\n",
            "Requirement already satisfied: pypdfium2 in /usr/local/lib/python3.11/dist-packages (from unstructured-inference>=1.0.5->unstructured[local-inference]) (4.30.1)\n",
            "Requirement already satisfied: soupsieve>1.2 in /usr/local/lib/python3.11/dist-packages (from beautifulsoup4->unstructured[local-inference]) (2.7)\n",
            "Requirement already satisfied: marshmallow<4.0.0,>=3.18.0 in /usr/local/lib/python3.11/dist-packages (from dataclasses-json->unstructured[local-inference]) (3.26.1)\n",
            "Requirement already satisfied: typing-inspect<1,>=0.4.0 in /usr/local/lib/python3.11/dist-packages (from dataclasses-json->unstructured[local-inference]) (0.9.0)\n",
            "Requirement already satisfied: torchvision in /usr/local/lib/python3.11/dist-packages (from effdet->unstructured[local-inference]) (0.21.0+cu124)\n",
            "Requirement already satisfied: pycocotools>=2.0.2 in /usr/local/lib/python3.11/dist-packages (from effdet->unstructured[local-inference]) (2.0.10)\n",
            "Requirement already satisfied: omegaconf>=2.0 in /usr/local/lib/python3.11/dist-packages (from effdet->unstructured[local-inference]) (2.3.0)\n",
            "Requirement already satisfied: google-api-core!=2.0.*,!=2.1.*,!=2.10.*,!=2.2.*,!=2.3.*,!=2.4.*,!=2.5.*,!=2.6.*,!=2.7.*,!=2.8.*,!=2.9.*,<3.0.0,>=1.34.1 in /usr/local/lib/python3.11/dist-packages (from google-api-core[grpc]!=2.0.*,!=2.1.*,!=2.10.*,!=2.2.*,!=2.3.*,!=2.4.*,!=2.5.*,!=2.6.*,!=2.7.*,!=2.8.*,!=2.9.*,<3.0.0,>=1.34.1->google-cloud-vision->unstructured[local-inference]) (2.25.1)\n",
            "Requirement already satisfied: google-auth!=2.24.0,!=2.25.0,<3.0.0,>=2.14.1 in /usr/local/lib/python3.11/dist-packages (from google-cloud-vision->unstructured[local-inference]) (2.38.0)\n",
            "Requirement already satisfied: proto-plus<2.0.0,>=1.22.3 in /usr/local/lib/python3.11/dist-packages (from google-cloud-vision->unstructured[local-inference]) (1.26.1)\n",
            "Requirement already satisfied: six>=1.9 in /usr/local/lib/python3.11/dist-packages (from html5lib->unstructured[local-inference]) (1.17.0)\n",
            "Requirement already satisfied: webencodings in /usr/local/lib/python3.11/dist-packages (from html5lib->unstructured[local-inference]) (0.5.1)\n",
            "Requirement already satisfied: click in /usr/local/lib/python3.11/dist-packages (from nltk->unstructured[local-inference]) (8.2.1)\n",
            "Requirement already satisfied: joblib in /usr/local/lib/python3.11/dist-packages (from nltk->unstructured[local-inference]) (1.5.1)\n",
            "Requirement already satisfied: regex>=2021.8.3 in /usr/local/lib/python3.11/dist-packages (from nltk->unstructured[local-inference]) (2024.11.6)\n",
            "Requirement already satisfied: et-xmlfile in /usr/local/lib/python3.11/dist-packages (from openpyxl->unstructured[local-inference]) (2.0.0)\n",
            "Requirement already satisfied: python-dateutil>=2.8.2 in /usr/local/lib/python3.11/dist-packages (from pandas->unstructured[local-inference]) (2.9.0.post0)\n",
            "Requirement already satisfied: pytz>=2020.1 in /usr/local/lib/python3.11/dist-packages (from pandas->unstructured[local-inference]) (2025.2)\n",
            "Requirement already satisfied: tzdata>=2022.7 in /usr/local/lib/python3.11/dist-packages (from pandas->unstructured[local-inference]) (2025.2)\n",
            "Requirement already satisfied: charset-normalizer>=2.0.0 in /usr/local/lib/python3.11/dist-packages (from pdfminer.six->unstructured[local-inference]) (3.4.2)\n",
            "Requirement already satisfied: cryptography>=36.0.0 in /usr/local/lib/python3.11/dist-packages (from pdfminer.six->unstructured[local-inference]) (43.0.3)\n",
            "Requirement already satisfied: Deprecated in /usr/local/lib/python3.11/dist-packages (from pikepdf->unstructured[local-inference]) (1.2.18)\n",
            "Requirement already satisfied: olefile in /usr/local/lib/python3.11/dist-packages (from python-oxmsg->unstructured[local-inference]) (0.47)\n",
            "Requirement already satisfied: idna<4,>=2.5 in /usr/local/lib/python3.11/dist-packages (from requests->unstructured[local-inference]) (3.10)\n",
            "Requirement already satisfied: urllib3<3,>=1.21.1 in /usr/local/lib/python3.11/dist-packages (from requests->unstructured[local-inference]) (2.4.0)\n",
            "Requirement already satisfied: certifi>=2017.4.17 in /usr/local/lib/python3.11/dist-packages (from requests->unstructured[local-inference]) (2025.6.15)\n",
            "Requirement already satisfied: aiofiles>=24.1.0 in /usr/local/lib/python3.11/dist-packages (from unstructured-client->unstructured[local-inference]) (24.1.0)\n",
            "Requirement already satisfied: httpx>=0.27.0 in /usr/local/lib/python3.11/dist-packages (from unstructured-client->unstructured[local-inference]) (0.28.1)\n",
            "Requirement already satisfied: nest-asyncio>=1.6.0 in /usr/local/lib/python3.11/dist-packages (from unstructured-client->unstructured[local-inference]) (1.6.0)\n",
            "Requirement already satisfied: pydantic>=2.11.2 in /usr/local/lib/python3.11/dist-packages (from unstructured-client->unstructured[local-inference]) (2.11.7)\n",
            "Requirement already satisfied: requests-toolbelt>=1.0.0 in /usr/local/lib/python3.11/dist-packages (from unstructured-client->unstructured[local-inference]) (1.0.0)\n",
            "Requirement already satisfied: cffi>=1.12 in /usr/local/lib/python3.11/dist-packages (from cryptography>=36.0.0->pdfminer.six->unstructured[local-inference]) (1.17.1)\n",
            "Requirement already satisfied: googleapis-common-protos<2.0.0,>=1.56.2 in /usr/local/lib/python3.11/dist-packages (from google-api-core!=2.0.*,!=2.1.*,!=2.10.*,!=2.2.*,!=2.3.*,!=2.4.*,!=2.5.*,!=2.6.*,!=2.7.*,!=2.8.*,!=2.9.*,<3.0.0,>=1.34.1->google-api-core[grpc]!=2.0.*,!=2.1.*,!=2.10.*,!=2.2.*,!=2.3.*,!=2.4.*,!=2.5.*,!=2.6.*,!=2.7.*,!=2.8.*,!=2.9.*,<3.0.0,>=1.34.1->google-cloud-vision->unstructured[local-inference]) (1.70.0)\n",
            "Requirement already satisfied: grpcio<2.0.0,>=1.33.2 in /usr/local/lib/python3.11/dist-packages (from google-api-core[grpc]!=2.0.*,!=2.1.*,!=2.10.*,!=2.2.*,!=2.3.*,!=2.4.*,!=2.5.*,!=2.6.*,!=2.7.*,!=2.8.*,!=2.9.*,<3.0.0,>=1.34.1->google-cloud-vision->unstructured[local-inference]) (1.73.1)\n",
            "Requirement already satisfied: grpcio-status<2.0.0,>=1.33.2 in /usr/local/lib/python3.11/dist-packages (from google-api-core[grpc]!=2.0.*,!=2.1.*,!=2.10.*,!=2.2.*,!=2.3.*,!=2.4.*,!=2.5.*,!=2.6.*,!=2.7.*,!=2.8.*,!=2.9.*,<3.0.0,>=1.34.1->google-cloud-vision->unstructured[local-inference]) (1.71.2)\n",
            "Requirement already satisfied: cachetools<6.0,>=2.0.0 in /usr/local/lib/python3.11/dist-packages (from google-auth!=2.24.0,!=2.25.0,<3.0.0,>=2.14.1->google-cloud-vision->unstructured[local-inference]) (5.5.2)\n",
            "Requirement already satisfied: pyasn1-modules>=0.2.1 in /usr/local/lib/python3.11/dist-packages (from google-auth!=2.24.0,!=2.25.0,<3.0.0,>=2.14.1->google-cloud-vision->unstructured[local-inference]) (0.4.2)\n",
            "Requirement already satisfied: rsa<5,>=3.1.4 in /usr/local/lib/python3.11/dist-packages (from google-auth!=2.24.0,!=2.25.0,<3.0.0,>=2.14.1->google-cloud-vision->unstructured[local-inference]) (4.9.1)\n",
            "Requirement already satisfied: anyio in /usr/local/lib/python3.11/dist-packages (from httpx>=0.27.0->unstructured-client->unstructured[local-inference]) (4.9.0)\n",
            "Requirement already satisfied: httpcore==1.* in /usr/local/lib/python3.11/dist-packages (from httpx>=0.27.0->unstructured-client->unstructured[local-inference]) (1.0.9)\n",
            "Requirement already satisfied: h11>=0.16 in /usr/local/lib/python3.11/dist-packages (from httpcore==1.*->httpx>=0.27.0->unstructured-client->unstructured[local-inference]) (0.16.0)\n",
            "Requirement already satisfied: antlr4-python3-runtime==4.9.* in /usr/local/lib/python3.11/dist-packages (from omegaconf>=2.0->effdet->unstructured[local-inference]) (4.9.3)\n",
            "Requirement already satisfied: PyYAML>=5.1.0 in /usr/local/lib/python3.11/dist-packages (from omegaconf>=2.0->effdet->unstructured[local-inference]) (6.0.2)\n",
            "Requirement already satisfied: annotated-types>=0.6.0 in /usr/local/lib/python3.11/dist-packages (from pydantic>=2.11.2->unstructured-client->unstructured[local-inference]) (0.7.0)\n",
            "Requirement already satisfied: pydantic-core==2.33.2 in /usr/local/lib/python3.11/dist-packages (from pydantic>=2.11.2->unstructured-client->unstructured[local-inference]) (2.33.2)\n",
            "Requirement already satisfied: typing-inspection>=0.4.0 in /usr/local/lib/python3.11/dist-packages (from pydantic>=2.11.2->unstructured-client->unstructured[local-inference]) (0.4.1)\n",
            "Requirement already satisfied: safetensors in /usr/local/lib/python3.11/dist-packages (from timm->unstructured-inference>=1.0.5->unstructured[local-inference]) (0.5.3)\n",
            "Requirement already satisfied: filelock in /usr/local/lib/python3.11/dist-packages (from torch->unstructured-inference>=1.0.5->unstructured[local-inference]) (3.18.0)\n",
            "Requirement already satisfied: jinja2 in /usr/local/lib/python3.11/dist-packages (from torch->unstructured-inference>=1.0.5->unstructured[local-inference]) (3.1.6)\n",
            "Requirement already satisfied: fsspec in /usr/local/lib/python3.11/dist-packages (from torch->unstructured-inference>=1.0.5->unstructured[local-inference]) (2025.3.2)\n",
            "Requirement already satisfied: nvidia-cuda-nvrtc-cu12==12.4.127 in /usr/local/lib/python3.11/dist-packages (from torch->unstructured-inference>=1.0.5->unstructured[local-inference]) (12.4.127)\n",
            "Requirement already satisfied: nvidia-cuda-runtime-cu12==12.4.127 in /usr/local/lib/python3.11/dist-packages (from torch->unstructured-inference>=1.0.5->unstructured[local-inference]) (12.4.127)\n",
            "Requirement already satisfied: nvidia-cuda-cupti-cu12==12.4.127 in /usr/local/lib/python3.11/dist-packages (from torch->unstructured-inference>=1.0.5->unstructured[local-inference]) (12.4.127)\n",
            "Requirement already satisfied: nvidia-cudnn-cu12==9.1.0.70 in /usr/local/lib/python3.11/dist-packages (from torch->unstructured-inference>=1.0.5->unstructured[local-inference]) (9.1.0.70)\n",
            "Requirement already satisfied: nvidia-cublas-cu12==12.4.5.8 in /usr/local/lib/python3.11/dist-packages (from torch->unstructured-inference>=1.0.5->unstructured[local-inference]) (12.4.5.8)\n",
            "Requirement already satisfied: nvidia-cufft-cu12==11.2.1.3 in /usr/local/lib/python3.11/dist-packages (from torch->unstructured-inference>=1.0.5->unstructured[local-inference]) (11.2.1.3)\n",
            "Requirement already satisfied: nvidia-curand-cu12==10.3.5.147 in /usr/local/lib/python3.11/dist-packages (from torch->unstructured-inference>=1.0.5->unstructured[local-inference]) (10.3.5.147)\n",
            "Requirement already satisfied: nvidia-cusolver-cu12==11.6.1.9 in /usr/local/lib/python3.11/dist-packages (from torch->unstructured-inference>=1.0.5->unstructured[local-inference]) (11.6.1.9)\n",
            "Requirement already satisfied: nvidia-cusparse-cu12==12.3.1.170 in /usr/local/lib/python3.11/dist-packages (from torch->unstructured-inference>=1.0.5->unstructured[local-inference]) (12.3.1.170)\n",
            "Requirement already satisfied: nvidia-cusparselt-cu12==0.6.2 in /usr/local/lib/python3.11/dist-packages (from torch->unstructured-inference>=1.0.5->unstructured[local-inference]) (0.6.2)\n",
            "Requirement already satisfied: nvidia-nccl-cu12==2.21.5 in /usr/local/lib/python3.11/dist-packages (from torch->unstructured-inference>=1.0.5->unstructured[local-inference]) (2.21.5)\n",
            "Requirement already satisfied: nvidia-nvtx-cu12==12.4.127 in /usr/local/lib/python3.11/dist-packages (from torch->unstructured-inference>=1.0.5->unstructured[local-inference]) (12.4.127)\n",
            "Requirement already satisfied: nvidia-nvjitlink-cu12==12.4.127 in /usr/local/lib/python3.11/dist-packages (from torch->unstructured-inference>=1.0.5->unstructured[local-inference]) (12.4.127)\n",
            "Requirement already satisfied: triton==3.2.0 in /usr/local/lib/python3.11/dist-packages (from torch->unstructured-inference>=1.0.5->unstructured[local-inference]) (3.2.0)\n",
            "Requirement already satisfied: mpmath<1.4,>=1.1.0 in /usr/local/lib/python3.11/dist-packages (from sympy->onnxruntime>=1.19.0->unstructured[local-inference]) (1.3.0)\n",
            "Requirement already satisfied: tokenizers<0.22,>=0.21 in /usr/local/lib/python3.11/dist-packages (from transformers>=4.25.1->unstructured-inference>=1.0.5->unstructured[local-inference]) (0.21.2)\n",
            "Requirement already satisfied: hf-xet<2.0.0,>=1.1.2 in /usr/local/lib/python3.11/dist-packages (from huggingface-hub->unstructured-inference>=1.0.5->unstructured[local-inference]) (1.1.5)\n",
            "Requirement already satisfied: mypy-extensions>=0.3.0 in /usr/local/lib/python3.11/dist-packages (from typing-inspect<1,>=0.4.0->dataclasses-json->unstructured[local-inference]) (1.1.0)\n",
            "Requirement already satisfied: humanfriendly>=9.1 in /usr/local/lib/python3.11/dist-packages (from coloredlogs->onnxruntime>=1.19.0->unstructured[local-inference]) (10.0)\n",
            "Requirement already satisfied: contourpy>=1.0.1 in /usr/local/lib/python3.11/dist-packages (from matplotlib->unstructured-inference>=1.0.5->unstructured[local-inference]) (1.3.2)\n",
            "Requirement already satisfied: cycler>=0.10 in /usr/local/lib/python3.11/dist-packages (from matplotlib->unstructured-inference>=1.0.5->unstructured[local-inference]) (0.12.1)\n",
            "Requirement already satisfied: fonttools>=4.22.0 in /usr/local/lib/python3.11/dist-packages (from matplotlib->unstructured-inference>=1.0.5->unstructured[local-inference]) (4.58.4)\n",
            "Requirement already satisfied: kiwisolver>=1.3.1 in /usr/local/lib/python3.11/dist-packages (from matplotlib->unstructured-inference>=1.0.5->unstructured[local-inference]) (1.4.8)\n",
            "Requirement already satisfied: pyparsing>=2.3.1 in /usr/local/lib/python3.11/dist-packages (from matplotlib->unstructured-inference>=1.0.5->unstructured[local-inference]) (3.2.3)\n",
            "Requirement already satisfied: pycparser in /usr/local/lib/python3.11/dist-packages (from cffi>=1.12->cryptography>=36.0.0->pdfminer.six->unstructured[local-inference]) (2.22)\n",
            "Requirement already satisfied: pyasn1<0.7.0,>=0.6.1 in /usr/local/lib/python3.11/dist-packages (from pyasn1-modules>=0.2.1->google-auth!=2.24.0,!=2.25.0,<3.0.0,>=2.14.1->google-cloud-vision->unstructured[local-inference]) (0.6.1)\n",
            "Requirement already satisfied: sniffio>=1.1 in /usr/local/lib/python3.11/dist-packages (from anyio->httpx>=0.27.0->unstructured-client->unstructured[local-inference]) (1.3.1)\n",
            "Requirement already satisfied: MarkupSafe>=2.0 in /usr/local/lib/python3.11/dist-packages (from jinja2->torch->unstructured-inference>=1.0.5->unstructured[local-inference]) (3.0.2)\n"
          ]
        }
      ],
      "source": [
        "!pip install -U langgraph langsmith langchain-google-genai\n",
        "!pip install langchain-tavily\n",
        "!pip install langchain_community\n",
        "!pip install google-search-results\n",
        "!pip install pypdf\n",
        "!pip install tiktoken\n",
        "!pip install chromadb\n",
        "!pip install langchain-chroma\n",
        "!pip install unstructured\n",
        "!pip install pdfminer.six\n",
        "!pip install pi-heif\n",
        "!pip install \"unstructured[local-inference]\""
      ]
    },
    {
      "cell_type": "markdown",
      "metadata": {
        "id": "LTFkysbYWRX-"
      },
      "source": [
        "### **Environment Setup**"
      ]
    },
    {
      "cell_type": "code",
      "execution_count": 1,
      "metadata": {
        "id": "6ccgf_qB5_oT"
      },
      "outputs": [],
      "source": [
        "from typing import Annotated\n",
        "\n",
        "from langchain.chat_models import init_chat_model\n",
        "from typing_extensions import TypedDict\n",
        "\n",
        "from langgraph.graph import StateGraph, START, END\n",
        "from langgraph.graph.message import add_messages\n",
        "import os\n",
        "import getpass\n",
        "from langchain_tavily import TavilySearch\n",
        "from langchain_community.utilities import SerpAPIWrapper\n",
        "from langgraph.prebuilt import ToolNode, tools_condition\n",
        "from langgraph.checkpoint.memory import MemorySaver\n",
        "from langchain_core.tools import Tool\n",
        "\n",
        "from unstructured.partition.pdf import partition_pdf\n",
        "from langchain_community.document_loaders import UnstructuredPDFLoader\n",
        "from langchain_text_splitters import RecursiveCharacterTextSplitter\n",
        "from langchain_google_genai import GoogleGenerativeAIEmbeddings\n",
        "from langchain_chroma import Chroma\n",
        "from langchain_google_genai import ChatGoogleGenerativeAI\n",
        "from langchain_core.prompts import ChatPromptTemplate\n",
        "from langchain_core.output_parsers import StrOutputParser\n",
        "from langchain_core.runnables import RunnablePassthrough\n",
        "from langchain_core.messages import SystemMessage, HumanMessage, AIMessage"
      ]
    },
    {
      "cell_type": "code",
      "execution_count": 2,
      "metadata": {
        "id": "LjPu3DF06Hzr"
      },
      "outputs": [],
      "source": [
        "#defining the state class\n",
        "class State(TypedDict):\n",
        "  messages : Annotated[list, add_messages]\n",
        "\n",
        "#initialising the Workflow Builder\n",
        "graph_builder = StateGraph(State)"
      ]
    },
    {
      "cell_type": "markdown",
      "metadata": {
        "id": "ArnBwREe7-rX"
      },
      "source": [
        "### **Initialising LLM**"
      ]
    },
    {
      "cell_type": "code",
      "execution_count": 3,
      "metadata": {
        "colab": {
          "base_uri": "https://localhost:8080/"
        },
        "id": "fw4WpBBO6Xai",
        "outputId": "116714eb-7a2c-4973-9b5e-979fada84142"
      },
      "outputs": [
        {
          "name": "stdout",
          "output_type": "stream",
          "text": [
            "Enter your Google AI API key: ··········\n"
          ]
        }
      ],
      "source": [
        "if \"GOOGLE_API_KEY\" not in os.environ:\n",
        "    os.environ[\"GOOGLE_API_KEY\"] = getpass.getpass(\"Enter your Google AI API key: \")\n",
        "\n",
        "#initialising the LLM\n",
        "llm = init_chat_model(\"google_genai:gemini-2.0-flash\", temperature=0.1) #smaller temperature value used to ensure that we get the most objective answers from the LLM (highest probability)"
      ]
    },
    {
      "cell_type": "markdown",
      "metadata": {
        "id": "uNipX5oZ8Ard"
      },
      "source": [
        "### **Defining Web Search Tools**\n",
        "Two Web Search Tools are defined - Tavily Search and Serp API, both work equally well in sourcing information. The distinction, however, lies in the convenience of deployment where Serp API requires a custom Tool to be defined unlike Tavily Search which can be direcly bound with the LLM."
      ]
    },
    {
      "cell_type": "code",
      "execution_count": 4,
      "metadata": {
        "colab": {
          "base_uri": "https://localhost:8080/"
        },
        "id": "KUCzKoMF6g-s",
        "outputId": "99752dec-248c-4209-a1c2-2e24d67edc8f"
      },
      "outputs": [
        {
          "name": "stdout",
          "output_type": "stream",
          "text": [
            "Enter Tavily API Key:··········\n"
          ]
        }
      ],
      "source": [
        "if \"TAVILY_API_KEY\" not in os.environ:\n",
        "  os.environ[\"TAVILY_API_KEY\"] = getpass.getpass(\"Enter Tavily API Key:\")"
      ]
    },
    {
      "cell_type": "code",
      "execution_count": null,
      "metadata": {
        "colab": {
          "base_uri": "https://localhost:8080/"
        },
        "id": "vN31PjLg9CW9",
        "outputId": "4e6ff1ca-002c-4593-c59f-e13a17a46cc7"
      },
      "outputs": [
        {
          "data": {
            "text/plain": [
              "{'query': 'what is normalisation in machine learning',\n",
              " 'follow_up_questions': None,\n",
              " 'answer': None,\n",
              " 'images': [],\n",
              " 'results': [{'url': 'https://www.deepchecks.com/glossary/normalization-in-machine-learning/',\n",
              "   'title': 'What is Normalization in Machine Learning? Techniques & Uses',\n",
              "   'content': 'Normalization in machine learning is the process of translating data into the range [0, 1] (or any other range) or simply transforming data onto the unit',\n",
              "   'score': 0.9404462,\n",
              "   'raw_content': None}],\n",
              " 'response_time': 1.21}"
            ]
          },
          "execution_count": 25,
          "metadata": {},
          "output_type": "execute_result"
        }
      ],
      "source": [
        "search_tool = TavilySearch(max_results=1)\n",
        "search_tool.invoke(\"what is normalisation in machine learning\")"
      ]
    },
    {
      "cell_type": "code",
      "execution_count": 4,
      "metadata": {
        "colab": {
          "base_uri": "https://localhost:8080/"
        },
        "id": "1q42t_1QLxl7",
        "outputId": "bf257366-7915-48d1-91ba-35bc36f9edbb"
      },
      "outputs": [
        {
          "name": "stdout",
          "output_type": "stream",
          "text": [
            "Enter Serp API Key:··········\n"
          ]
        }
      ],
      "source": [
        "if \"SERPAPI_API_KEY\" not in os.environ:\n",
        "  os.environ[\"SERPAPI_API_KEY\"] = getpass.getpass(\"Enter Serp API Key:\")"
      ]
    },
    {
      "cell_type": "code",
      "execution_count": 6,
      "metadata": {
        "colab": {
          "base_uri": "https://localhost:8080/",
          "height": 116
        },
        "id": "sjKVKi_8NQXU",
        "outputId": "9cfacd16-3a4c-46d5-becf-e905c0543282"
      },
      "outputs": [
        {
          "data": {
            "application/vnd.google.colaboratory.intrinsic+json": {
              "type": "string"
            },
            "text/plain": [
              "\"['In machine learning, normalization is a statistical technique with various applications. There are two main forms of normalization, namely data normalization and activation normalization.', 'Normalization type: Machine learning.', 'Normalization entity_type: kp3_verticals.', 'Normalization kgmid: /g/11y8rhmzzs.', 'Normalization is an essential step in the preprocessing of data for machine learning models, and it is a feature scaling technique.', 'Normalization is a specific form of feature scaling that transforms the range of features to a standard scale.', 'Normalization in machine learning is the process of translating data into the range [0, 1] (or any other range) or simply transforming data onto the unit ...', 'The goal of normalization is to transform features to be on a similar scale. For example, consider the following two features:', 'In machine learning, normalization is a statistical technique with various applications. There are two main forms of normalization, namely data normalization ...', 'Normalization is a data preprocessing technique used to transform the values of numeric columns in the dataset to a common scale.', 'The goal of normalization is to change the values of numeric columns in the dataset to use a common scale, without distorting differences in the ...', 'This article describes why normalization is necessary. It also demonstrates the pros and cons of min-max normalization and z-score normalization.']\""
            ]
          },
          "execution_count": 6,
          "metadata": {},
          "output_type": "execute_result"
        }
      ],
      "source": [
        "search = SerpAPIWrapper(params={\"engine\":\"google\"})\n",
        "search.run(\"what is normalisation in machine learning\")"
      ]
    },
    {
      "cell_type": "code",
      "execution_count": 7,
      "metadata": {
        "id": "xlf8qNuQOOIq"
      },
      "outputs": [],
      "source": [
        "#creating a custom tool to pass SerpAPI as a tool to the agent since it can't be directly used like Tavily API\n",
        "web_search = Tool(\n",
        "    name=\"web_search\",\n",
        "    description=\"Search the web for information about international student life, visa requirements, universities, and living conditions in Spain\",\n",
        "    func=search.run,\n",
        ")"
      ]
    },
    {
      "cell_type": "markdown",
      "metadata": {
        "id": "UrvbkWZLU3qo"
      },
      "source": [
        "### **Defining RAG Tool**"
      ]
    },
    {
      "cell_type": "code",
      "execution_count": null,
      "metadata": {
        "id": "foA_v_5DVAFK"
      },
      "outputs": [],
      "source": [
        "#Loading & Chunking the document\n",
        "\n",
        "loader = UnstructuredPDFLoader(\"sample_doc.pdf\")\n",
        "doc = loader.load()\n",
        "\n",
        "splitter = RecursiveCharacterTextSplitter(chunk_size=1000, chunk_overlap=100)\n",
        "chunks = splitter.split_documents(doc)"
      ]
    },
    {
      "cell_type": "code",
      "execution_count": 9,
      "metadata": {
        "id": "ZRVj3Ft8iklj"
      },
      "outputs": [],
      "source": [
        "#defining the embedding model, vector database & retriever\n",
        "embeddings_model = GoogleGenerativeAIEmbeddings(model=\"models/embedding-001\")\n",
        "vector_db = Chroma.from_documents(chunks, embeddings_model)\n",
        "retriever = vector_db.as_retriever()"
      ]
    },
    {
      "cell_type": "code",
      "execution_count": 10,
      "metadata": {
        "id": "KG7KHxB1x6kO"
      },
      "outputs": [],
      "source": [
        "#defining the RAG pipeline\n",
        "template = \"\"\"Answer the question based only on the following context:\n",
        "\n",
        "{context}\n",
        "\n",
        "Question: {question}\n",
        "\"\"\"\n",
        "prompt = ChatPromptTemplate.from_template(template)\n",
        "model = ChatGoogleGenerativeAI(model=\"gemini-2.0-flash\")\n",
        "\n",
        "#defining a function to combine the retrived document objects (chunks) for every query\n",
        "def format_docs(docs):\n",
        "    return \"\\n\\n\".join([d.page_content for d in docs])\n",
        "\n",
        "\n",
        "chain = (\n",
        "    {\"context\": retriever | format_docs, \"question\": RunnablePassthrough()}\n",
        "    | prompt\n",
        "    | model\n",
        "    | StrOutputParser()\n",
        ")"
      ]
    },
    {
      "cell_type": "code",
      "execution_count": 11,
      "metadata": {
        "id": "MwkV93PGx8Wx"
      },
      "outputs": [],
      "source": [
        "#creating a custom Tool that can be called by the LLM\n",
        "rag_tool = Tool(\n",
        "    name=\"rag_tool\",\n",
        "    description=\"Used to extract specific information related to IE University\",\n",
        "    func=chain.invoke\n",
        ")"
      ]
    },
    {
      "cell_type": "markdown",
      "metadata": {
        "id": "MRBrJxB_U9qC"
      },
      "source": [
        "### **Combining Tools**"
      ]
    },
    {
      "cell_type": "code",
      "execution_count": 12,
      "metadata": {
        "id": "X8Ow26bHNkIk"
      },
      "outputs": [],
      "source": [
        "tools = [web_search, rag_tool]"
      ]
    },
    {
      "cell_type": "code",
      "execution_count": 13,
      "metadata": {
        "id": "QVqQxc7N9JaT"
      },
      "outputs": [],
      "source": [
        "#binding the tools with LLM so that it is aware of the available functionalities that it can call for more info\n",
        "llm_with_tools = llm.bind_tools(tools)"
      ]
    },
    {
      "cell_type": "markdown",
      "metadata": {
        "id": "bR5Qd5DuAAC8"
      },
      "source": [
        "### **Defining the Nodes**"
      ]
    },
    {
      "cell_type": "code",
      "execution_count": 14,
      "metadata": {
        "id": "yoa_7axHXfHS"
      },
      "outputs": [],
      "source": [
        "#defining a classifier LLM to make sure that the input query is only related to international students in Spain\n",
        "\n",
        "def classifier(state):\n",
        "    question = next((msg.content for msg in reversed(state[\"messages\"]) if msg.type == \"human\"), \"\")\n",
        "\n",
        "    response = llm.invoke([\n",
        "        SystemMessage(content=\"Answer YES if this is about international students in Spain. Otherwise say NO.\"),\n",
        "        HumanMessage(content=question)\n",
        "    ])\n",
        "\n",
        "    if \"yes\" in response.content.lower():\n",
        "        return state\n",
        "\n",
        "    else:\n",
        "        return {\n",
        "            \"messages\": state[\"messages\"] + [AIMessage(content=\"Sorry, I can only help with questions about international students in Spain or the EU.\")]\n",
        "        }\n"
      ]
    },
    {
      "cell_type": "code",
      "execution_count": 15,
      "metadata": {
        "id": "51_VO9at_INd"
      },
      "outputs": [],
      "source": [
        "def workflow_brain(state: State):\n",
        "  return {\"messages\" : [llm_with_tools.invoke(state['messages'])]}"
      ]
    },
    {
      "cell_type": "code",
      "execution_count": 16,
      "metadata": {
        "id": "5p0l647x98ki"
      },
      "outputs": [],
      "source": [
        "tool_node = ToolNode(tools)"
      ]
    },
    {
      "cell_type": "code",
      "execution_count": 17,
      "metadata": {
        "id": "iroM7MY-cgay"
      },
      "outputs": [],
      "source": [
        "#function to aid conditional edge\n",
        "def route_based_on_scope(state: State) -> str:\n",
        "    return \"brain\" if classifier(state) else \"reject\""
      ]
    },
    {
      "cell_type": "markdown",
      "metadata": {
        "id": "Jt2f_UNbAIop"
      },
      "source": [
        "### **Building the Graph**"
      ]
    },
    {
      "cell_type": "code",
      "execution_count": 18,
      "metadata": {
        "id": "ih-GcfCY0GWr"
      },
      "outputs": [],
      "source": [
        "#adding in-memory functionality for multi-turn conversations\n",
        "memory = MemorySaver()"
      ]
    },
    {
      "cell_type": "code",
      "execution_count": 19,
      "metadata": {
        "colab": {
          "base_uri": "https://localhost:8080/"
        },
        "id": "wZjCY1KOFh99",
        "outputId": "95fb7883-e075-4152-c2ec-171ecc6f6b6b"
      },
      "outputs": [
        {
          "data": {
            "text/plain": [
              "<langgraph.graph.state.StateGraph at 0x7d9407fbf950>"
            ]
          },
          "execution_count": 19,
          "metadata": {},
          "output_type": "execute_result"
        }
      ],
      "source": [
        "graph_builder.add_node(\"classifier\", classifier)\n",
        "graph_builder.add_node(\"Brain\", workflow_brain)\n",
        "graph_builder.add_node(\"Tools\", tool_node)\n",
        "\n",
        "#reject node to output a polite message if irrelevant queries are asked\n",
        "graph_builder.add_node(\"reject\", lambda state: {\n",
        "    \"messages\": state[\"messages\"] + [\n",
        "        AIMessage(content=\"Sorry, I only answer questions related to international students in Spain or the EU.\")\n",
        "    ],\n",
        "    \"input\": \"\"\n",
        "})"
      ]
    },
    {
      "cell_type": "code",
      "execution_count": 20,
      "metadata": {
        "colab": {
          "base_uri": "https://localhost:8080/"
        },
        "id": "L5CP8G23D57y",
        "outputId": "7ed4c1f7-e5f2-4516-fe39-1fe1c1500c99"
      },
      "outputs": [
        {
          "data": {
            "text/plain": [
              "<langgraph.graph.state.StateGraph at 0x7d9407fbf950>"
            ]
          },
          "execution_count": 20,
          "metadata": {},
          "output_type": "execute_result"
        }
      ],
      "source": [
        "graph_builder.add_edge(START, \"classifier\")\n",
        "\n",
        "graph_builder.add_conditional_edges(\"classifier\", route_based_on_scope, {\n",
        "    \"brain\": \"Brain\",\n",
        "    \"reject\": \"reject\"\n",
        "})\n",
        "\n",
        "graph_builder.add_conditional_edges(\"Brain\", tools_condition, {\"tools\": \"Tools\", \"__end__\": END})\n",
        "graph_builder.add_edge(\"Tools\", \"Brain\")\n",
        "\n",
        "graph_builder.add_edge(\"reject\", END)"
      ]
    },
    {
      "cell_type": "code",
      "execution_count": 21,
      "metadata": {
        "id": "JzsZFLHpFFyF"
      },
      "outputs": [],
      "source": [
        "graph = graph_builder.compile(checkpointer=memory)"
      ]
    },
    {
      "cell_type": "code",
      "execution_count": 22,
      "metadata": {
        "colab": {
          "base_uri": "https://localhost:8080/",
          "height": 412
        },
        "id": "QvgU-8rUF2AS",
        "outputId": "7c884e8f-81dd-4f67-e783-7a2f80c7a3ab"
      },
      "outputs": [
        {
          "data": {
            "image/png": "[encoded data removed]",
            "text/plain": [
              "<IPython.core.display.Image object>"
            ]
          },
          "metadata": {},
          "output_type": "display_data"
        }
      ],
      "source": [
        "from IPython.display import Image, display\n",
        "display(Image(graph.get_graph().draw_mermaid_png()))"
      ]
    },
    {
      "cell_type": "markdown",
      "metadata": {
        "id": "MVyNmQQUK-do"
      },
      "source": [
        "### **Testing**"
      ]
    },
    {
      "cell_type": "code",
      "execution_count": 57,
      "metadata": {
        "colab": {
          "base_uri": "https://localhost:8080/"
        },
        "id": "ZVuD8E_KIIDs",
        "outputId": "d9d672d8-4377-47ce-a7a3-a0f4d6099b41"
      },
      "outputs": [
        {
          "name": "stdout",
          "output_type": "stream",
          "text": [
            "User: hi my name is nitin\n",
            "Assistant: Hello Nitin, how can I help you today?\n",
            "User: how many hours can international students work in spain\n",
            "Assistant: \n",
            "Assistant: ['If you have a student visa, you are allowed to work up to 30 hours a week. The student visa authorizes you to work in Spain with 2 fundamental conditions.', 'The student visa DOES allow you to work in Spain, and does so up to 30 hours per week. Generally speaking, there are 2 legal options that will allow any foreign ...', 'Spain offers several opportunities for work to international students. Spain allows its students to work on a student visa up to 30 hours per week. After ...', 'For 30 hours a week as a student you can find some work as a waiter, or store cashier (dependiente). Very low paid and Spanish is a most... So ...', 'Full-time program (minimum of 20 hours per week) at an authorized post-compulsory secondary education center in Spain, leading to the obtaining ...', 'International students can legally work for up to 30 hours a week. After graduating, international students can live in Spain for a year ...', \"While in grad school, you can only work up to 20 hours per week on campus, if you are an international applicant. It's illegal to work off ...\", 'A student visa allows part-time work of up to 30 hours per week (no more than 5 hours per day) during the academic period. Once a job offer is ...', \"Foreigners with student visas are allowed to work part-time in any field for up to 30 hours a week. The role doesn't have to relate to their studies.\", 'Full-time studies (minimum of 20 hours per week) at an accredited school or educational center that will result in a degree, diploma or certificate. Doctoral ...']\n",
            "Assistant: International students in Spain can work up to 30 hours per week.\n",
            "User: what is the job market immersion program of IE\n",
            "Assistant: \n",
            "Assistant: The document mentions a \"Job Market Immersion\" permit with a validity of 6 months, available only immediately after graduation. It is not directly associated with IE University. It is a permit available to non-EU IE students.\n",
            "Assistant: The \"Job Market Immersion\" permit is available to non-EU IE students immediately after graduation and has a validity of 6 months. It is not directly associated with IE University but is a permit available to students after graduation.\n",
            "User: what is my name\n",
            "Assistant: Your name is Nitin.\n",
            "User: exit\n",
            "Goodbye!\n"
          ]
        }
      ],
      "source": [
        "config = {\"configurable\": {\"thread_id\": \"1\"}}\n",
        "\n",
        "def stream_graph_updates(user_input: str):\n",
        "    for event in graph.stream({\"messages\": [{\"role\": \"user\", \"content\": user_input}]}, config=config):\n",
        "        for value in event.values():\n",
        "            print(\"Assistant:\", value[\"messages\"][-1].content)\n",
        "\n",
        "while True:\n",
        "    try:\n",
        "        user_input = input(\"User: \")\n",
        "        if user_input.lower() in [\"quit\", \"exit\", \"q\"]:\n",
        "            print(\"Goodbye!\")\n",
        "            break\n",
        "\n",
        "        stream_graph_updates(user_input)\n",
        "\n",
        "    except:\n",
        "        # fallback if input() is not available\n",
        "        user_input = \"What do you know about LangGraph?\"\n",
        "        print(\"User: \" + user_input)\n",
        "        stream_graph_updates(user_input)\n",
        "        break"
      ]
    },
    {
      "cell_type": "code",
      "execution_count": 24,
      "metadata": {
        "colab": {
          "base_uri": "https://localhost:8080/"
        },
        "id": "r8nGXprBWy2a",
        "outputId": "512a2ad2-0b72-4d13-c61d-9daf215ca4d2"
      },
      "outputs": [
        {
          "name": "stdout",
          "output_type": "stream",
          "text": [
            "User: how many teams play in the FIFA world cup\n",
            "Assistant: Sorry, I can only help with questions about international students in Spain or the EU.\n",
            "Assistant: \n",
            "User: exit\n",
            "Goodbye!\n"
          ]
        }
      ],
      "source": [
        "#testing with irrelevant questions\n",
        "\n",
        "def stream_graph_updates(user_input: str):\n",
        "    for event in graph.stream({\"messages\": [{\"role\": \"user\", \"content\": user_input}]}, config=config):\n",
        "        for value in event.values():\n",
        "            print(\"Assistant:\", value[\"messages\"][-1].content)\n",
        "\n",
        "while True:\n",
        "    try:\n",
        "        user_input = input(\"User: \")\n",
        "        if user_input.lower() in [\"quit\", \"exit\", \"q\"]:\n",
        "            print(\"Goodbye!\")\n",
        "            break\n",
        "\n",
        "        stream_graph_updates(user_input)\n",
        "\n",
        "    except:\n",
        "        # fallback if input() is not available\n",
        "        user_input = \"What do you know about LangGraph?\"\n",
        "        print(\"User: \" + user_input)\n",
        "        stream_graph_updates(user_input)\n",
        "        break"
      ]
    }
  ],
  "metadata": {
    "colab": {
      "provenance": []
    },
    "kernelspec": {
      "display_name": "Python 3",
      "name": "python3"
    },
    "language_info": {
      "name": "python"
    }
  },
  "nbformat": 4,
  "nbformat_minor": 0
}

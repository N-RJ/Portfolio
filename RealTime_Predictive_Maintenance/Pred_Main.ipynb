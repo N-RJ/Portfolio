{
 "cells": [
  {
   "cell_type": "markdown",
   "id": "f2b50ab0-1f03-4b82-89ab-ffcdf64570f3",
   "metadata": {},
   "source": [
    "## **Real-Time Predictive Maintenance : Aircraft Engine**"
   ]
  },
  {
   "cell_type": "code",
   "execution_count": null,
   "id": "07042e0b-7070-4d3b-b988-b6a7d074be34",
   "metadata": {},
   "outputs": [],
   "source": [
    "from pyspark.ml import PipelineModel\n",
    "import os\n",
    "from pyspark.sql.session import SparkSession\n",
    "import pyspark.sql.functions as F\n",
    "from pyspark.sql.types import StringType\n",
    "from pyspark.sql.types import TimestampType, IntegerType"
   ]
  },
  {
   "cell_type": "code",
   "execution_count": null,
   "id": "5b8e352b-1cdd-4c57-9672-3f38a8d04ed1",
   "metadata": {},
   "outputs": [],
   "source": [
    "#importing kafka & mongodb connector module\n",
    "\n",
    "os.environ['PYSPARK_SUBMIT_ARGS'] = '--packages \"org.apache.spark:spark-sql-kafka-0-10_2.12:3.5.2,org.mongodb.spark:mongo-spark-connector_2.12:10.0.5\" pyspark-shell'"
   ]
  },
  {
   "cell_type": "code",
   "execution_count": null,
   "id": "a1338347-0393-48b7-9bf9-1ce5ea5ad314",
   "metadata": {},
   "outputs": [],
   "source": [
    "#creating a spark session\n",
    "\n",
    "spark_session = \\\n",
    "  SparkSession.builder\\\n",
    "              .appName(\"Session 05 Optional \")\\\n",
    "              .getOrCreate()\n",
    "\n",
    "print(f\"This cluster relies on Spark '{spark_session.version}'\")"
   ]
  },
  {
   "cell_type": "code",
   "execution_count": null,
   "id": "48033a8c-bd70-49eb-9fac-f1f3ea8d73b7",
   "metadata": {},
   "outputs": [],
   "source": [
    "#creating & loading data from speed_event topic of kafka to a dataFrame using streamReader\n",
    "event_dataframe = \\\n",
    "  spark_session.readStream\\\n",
    "               .format(\"kafka\") \\\n",
    "               .option(\"kafka.bootstrap.servers\", \"localhost:9092\") \\\n",
    "               .option(\"subscribe\", \"Aircraft_Sensor_Data\") \\\n",
    "               .option(\"startingOffsets\", \"latest\") \\\n",
    "               .load()\n",
    "\n",
    "event_dataframe.printSchema()"
   ]
  },
  {
   "cell_type": "markdown",
   "id": "f3ba6527-f3d3-44da-900c-871c64550fe6",
   "metadata": {},
   "source": [
    "### Data Preprocessing"
   ]
  },
  {
   "cell_type": "code",
   "execution_count": null,
   "id": "e98bcbbd-8199-4c46-8b1f-505b6b2f9561",
   "metadata": {},
   "outputs": [],
   "source": [
    "#casting the value column to String for further manipulation\n",
    "\n",
    "event_dataframe = \\\n",
    "  event_dataframe.select(F.col(\"value\").cast(StringType()))\n",
    "\n",
    "event_dataframe.printSchema()"
   ]
  },
  {
   "cell_type": "code",
   "execution_count": null,
   "id": "efc65e46-66ce-4009-87ae-885448475738",
   "metadata": {},
   "outputs": [],
   "source": [
    "#performing transformations on the dataFrame\n",
    "\n",
    "sensor_df = \\\n",
    "    event_dataframe.select(F.split(\"value\",\"\\|\").alias(\"fields\"))\\\n",
    "                 .withColumn(\"OpSetting_1\", F.col(\"fields\").getItem(0).cast(IntegerType()))\\\n",
    "                 .withColumn(\"OpSetting_2\", F.col(\"fields\").getItem(1).cast(IntegerType()))\\\n",
    "                 .withColumn(\"OpSetting_3\", F.col(\"fields\").getItem(2).cast(IntegerType()))\\\n",
    "                 .withColumn(\"Sensor_1\", F.col(\"fields\").getItem(3).cast(IntegerType()))\\\n",
    "                 .withColumn(\"Sensor_2\", F.col(\"fields\").getItem(4).cast(IntegerType()))\\\n",
    "                 .withColumn(\"Sensor_3\", F.col(\"fields\").getItem(5).cast(IntegerType()))\\\n",
    "                 .withColumn(\"Sensor_4\", F.col(\"fields\").getItem(6).cast(IntegerType()))\\\n",
    "                 .withColumn(\"Sensor_5\", F.col(\"fields\").getItem(7).cast(IntegerType()))\\\n",
    "                 .withColumn(\"Sensor_6\", F.col(\"fields\").getItem(8).cast(IntegerType()))\\\n",
    "                 .withColumn(\"Sensor_7\", F.col(\"fields\").getItem(9).cast(IntegerType()))\\\n",
    "                 .withColumn(\"Sensor_8\", F.col(\"fields\").getItem(10).cast(IntegerType()))\\\n",
    "                 .withColumn(\"Sensor_9\", F.col(\"fields\").getItem(11).cast(IntegerType()))\\\n",
    "                 .withColumn(\"Sensor_10\", F.col(\"fields\").getItem(12).cast(IntegerType()))\\\n",
    "                 .withColumn(\"Sensor_11\", F.col(\"fields\").getItem(13).cast(IntegerType()))\\\n",
    "                 .withColumn(\"Sensor_12\", F.col(\"fields\").getItem(14).cast(IntegerType()))\\\n",
    "                 .withColumn(\"Sensor_13\", F.col(\"fields\").getItem(15).cast(IntegerType()))\\\n",
    "                 .withColumn(\"Sensor_14\", F.col(\"fields\").getItem(16).cast(IntegerType()))\\\n",
    "                 .withColumn(\"Sensor_15\", F.col(\"fields\").getItem(17).cast(IntegerType()))\\\n",
    "                 .withColumn(\"Sensor_16\", F.col(\"fields\").getItem(18).cast(IntegerType()))\\\n",
    "                 .withColumn(\"Sensor_17\", F.col(\"fields\").getItem(19).cast(IntegerType()))\\\n",
    "                 .withColumn(\"Sensor_18\", F.col(\"fields\").getItem(20).cast(IntegerType()))\\\n",
    "                 .withColumn(\"Sensor_19\", F.col(\"fields\").getItem(21).cast(IntegerType()))\\\n",
    "                 .withColumn(\"Sensor_20\", F.col(\"fields\").getItem(22).cast(IntegerType()))\\\n",
    "                 .withColumn(\"Sensor_21\", F.col(\"fields\").getItem(23).cast(IntegerType()))\\\n",
    "                 .withColumn(\"Timestamp\", F.current_timestamp())\\\n",
    "                 .drop(\"fields\")"
   ]
  },
  {
   "cell_type": "code",
   "execution_count": null,
   "id": "8ff2bba6-246b-4513-8ac4-a0c40f88a19d",
   "metadata": {},
   "outputs": [],
   "source": [
    "sensor_df.printSchema()"
   ]
  },
  {
   "cell_type": "markdown",
   "id": "e35d9529-7f88-481a-a4de-24408ab38d37",
   "metadata": {},
   "source": [
    "### Implementing ML Pipeline & Predicting RUL"
   ]
  },
  {
   "cell_type": "code",
   "execution_count": null,
   "id": "74d11f44-b447-4f03-bf8f-9c1e9f4d0e7c",
   "metadata": {},
   "outputs": [],
   "source": [
    "classifierPipeline = PipelineModel.load(\"hdfs://localhost:9000/datalake/raw/predictive-maintenance/ML_Pipeline\")\n",
    "\n",
    "\n",
    "predictions = classifierPipeline.transform(sensor_df)\n",
    "predictions = predictions.select(\"Timestamp\",\"features_raw\", \"prediction\")"
   ]
  },
  {
   "cell_type": "code",
   "execution_count": null,
   "id": "fac083cd-6d98-4dee-98e7-d14f9f1e7ce9",
   "metadata": {},
   "outputs": [],
   "source": [
    "console_sink = \\\n",
    "  predictions.writeStream\\\n",
    "                            .format(\"console\")\\\n",
    "                            .outputMode(\"append\")\\\n",
    "                            .trigger(processingTime='10 seconds')"
   ]
  },
  {
   "cell_type": "code",
   "execution_count": null,
   "id": "a6459438-fa3e-4c9f-abb7-213ecb3daa6d",
   "metadata": {},
   "outputs": [],
   "source": [
    "ap = console_sink.start()"
   ]
  },
  {
   "cell_type": "code",
   "execution_count": null,
   "id": "2a800fbe-a81c-4d7b-b356-f5cc7c7cc922",
   "metadata": {},
   "outputs": [],
   "source": [
    "console_sink.stop()"
   ]
  },
  {
   "cell_type": "markdown",
   "id": "275cb24f-0325-4b37-bb30-a33bc70be008",
   "metadata": {},
   "source": [
    "### Writing the Predictions to MongoDB"
   ]
  },
  {
   "cell_type": "code",
   "execution_count": null,
   "id": "4985dc83-e5b0-4113-a747-db8c2531fc1d",
   "metadata": {},
   "outputs": [],
   "source": [
    "mongoDB_sink = predictions.writeStream\\\n",
    "                        .format(\"mongodb\")\\\n",
    "                        .option(\"connection.uri\", \"mongodb://localhost:27017/Aircraft_Engine.Predictions\") \\\n",
    "                        .outputMode(\"append\")\\\n",
    "                        .trigger(processingTime='10 seconds')"
   ]
  },
  {
   "cell_type": "code",
   "execution_count": null,
   "id": "f17fa36f-060e-4479-8a72-320059a5ff1c",
   "metadata": {},
   "outputs": [],
   "source": [
    "application_handler = mongoDB_sink.start()"
   ]
  },
  {
   "cell_type": "code",
   "execution_count": null,
   "id": "48db9604-2216-4def-a17f-6968ffcb5c89",
   "metadata": {},
   "outputs": [],
   "source": [
    "application_handler.status"
   ]
  },
  {
   "cell_type": "code",
   "execution_count": null,
   "id": "ddcf3266-3367-4bc5-a1c2-056adc6f77b8",
   "metadata": {},
   "outputs": [],
   "source": [
    "application_handler.stop()"
   ]
  }
 ],
 "metadata": {
  "kernelspec": {
   "display_name": "Python 3 (ipykernel)",
   "language": "python",
   "name": "python3"
  },
  "language_info": {
   "codemirror_mode": {
    "name": "ipython",
    "version": 3
   },
   "file_extension": ".py",
   "mimetype": "text/x-python",
   "name": "python",
   "nbconvert_exporter": "python",
   "pygments_lexer": "ipython3",
   "version": "3.11.2"
  }
 },
 "nbformat": 4,
 "nbformat_minor": 5
}
